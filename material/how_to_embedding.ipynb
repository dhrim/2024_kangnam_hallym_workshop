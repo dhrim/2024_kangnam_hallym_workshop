{
  "cells": [
    {
      "cell_type": "code",
      "execution_count": 1,
      "metadata": {
        "colab": {
          "base_uri": "https://localhost:8080/"
        },
        "id": "UYw02iwWwUvC",
        "outputId": "20e53147-8083-4ec9-8329-d4a8d1a20b19"
      },
      "outputs": [
        {
          "name": "stdout",
          "output_type": "stream",
          "text": [
            "Collecting openai\n",
            "  Downloading openai-1.35.13-py3-none-any.whl (328 kB)\n",
            "\u001b[2K     \u001b[90m━━━━━━━━━━━━━━━━━━━━━━━━━━━━━━━━━━━━━━━━\u001b[0m \u001b[32m328.5/328.5 kB\u001b[0m \u001b[31m1.7 MB/s\u001b[0m eta \u001b[36m0:00:00\u001b[0m\n",
            "\u001b[?25hRequirement already satisfied: anyio<5,>=3.5.0 in /usr/local/lib/python3.10/dist-packages (from openai) (3.7.1)\n",
            "Requirement already satisfied: distro<2,>=1.7.0 in /usr/lib/python3/dist-packages (from openai) (1.7.0)\n",
            "Collecting httpx<1,>=0.23.0 (from openai)\n",
            "  Downloading httpx-0.27.0-py3-none-any.whl (75 kB)\n",
            "\u001b[2K     \u001b[90m━━━━━━━━━━━━━━━━━━━━━━━━━━━━━━━━━━━━━━━━\u001b[0m \u001b[32m75.6/75.6 kB\u001b[0m \u001b[31m2.8 MB/s\u001b[0m eta \u001b[36m0:00:00\u001b[0m\n",
            "\u001b[?25hRequirement already satisfied: pydantic<3,>=1.9.0 in /usr/local/lib/python3.10/dist-packages (from openai) (2.8.0)\n",
            "Requirement already satisfied: sniffio in /usr/local/lib/python3.10/dist-packages (from openai) (1.3.1)\n",
            "Requirement already satisfied: tqdm>4 in /usr/local/lib/python3.10/dist-packages (from openai) (4.66.4)\n",
            "Requirement already satisfied: typing-extensions<5,>=4.7 in /usr/local/lib/python3.10/dist-packages (from openai) (4.12.2)\n",
            "Requirement already satisfied: idna>=2.8 in /usr/local/lib/python3.10/dist-packages (from anyio<5,>=3.5.0->openai) (3.7)\n",
            "Requirement already satisfied: exceptiongroup in /usr/local/lib/python3.10/dist-packages (from anyio<5,>=3.5.0->openai) (1.2.1)\n",
            "Requirement already satisfied: certifi in /usr/local/lib/python3.10/dist-packages (from httpx<1,>=0.23.0->openai) (2024.6.2)\n",
            "Collecting httpcore==1.* (from httpx<1,>=0.23.0->openai)\n",
            "  Downloading httpcore-1.0.5-py3-none-any.whl (77 kB)\n",
            "\u001b[2K     \u001b[90m━━━━━━━━━━━━━━━━━━━━━━━━━━━━━━━━━━━━━━━━\u001b[0m \u001b[32m77.9/77.9 kB\u001b[0m \u001b[31m3.9 MB/s\u001b[0m eta \u001b[36m0:00:00\u001b[0m\n",
            "\u001b[?25hCollecting h11<0.15,>=0.13 (from httpcore==1.*->httpx<1,>=0.23.0->openai)\n",
            "  Downloading h11-0.14.0-py3-none-any.whl (58 kB)\n",
            "\u001b[2K     \u001b[90m━━━━━━━━━━━━━━━━━━━━━━━━━━━━━━━━━━━━━━━━\u001b[0m \u001b[32m58.3/58.3 kB\u001b[0m \u001b[31m2.9 MB/s\u001b[0m eta \u001b[36m0:00:00\u001b[0m\n",
            "\u001b[?25hRequirement already satisfied: annotated-types>=0.4.0 in /usr/local/lib/python3.10/dist-packages (from pydantic<3,>=1.9.0->openai) (0.7.0)\n",
            "Requirement already satisfied: pydantic-core==2.20.0 in /usr/local/lib/python3.10/dist-packages (from pydantic<3,>=1.9.0->openai) (2.20.0)\n",
            "Installing collected packages: h11, httpcore, httpx, openai\n",
            "Successfully installed h11-0.14.0 httpcore-1.0.5 httpx-0.27.0 openai-1.35.13\n"
          ]
        }
      ],
      "source": [
        "!pip install --upgrade openai"
      ]
    },
    {
      "cell_type": "code",
      "execution_count": 2,
      "metadata": {
        "id": "UGHPBTuYwUvE"
      },
      "outputs": [],
      "source": [
        "from openai import OpenAI\n",
        "import os\n",
        "\n",
        "import pandas as pd\n",
        "from sklearn.metrics.pairwise import cosine_similarity\n",
        "import numpy as np\n",
        "\n"
      ]
    },
    {
      "cell_type": "code",
      "execution_count": 3,
      "metadata": {
        "id": "rFxApxsMwUvE"
      },
      "outputs": [],
      "source": [
        "client = OpenAI(api_key=\"\")"
      ]
    },
    {
      "cell_type": "code",
      "execution_count": 4,
      "metadata": {
        "colab": {
          "base_uri": "https://localhost:8080/"
        },
        "id": "JIJZW_T5wUvF",
        "outputId": "1b6a6120-6702-49a0-e201-6e69dd6fa6e9"
      },
      "outputs": [
        {
          "name": "stdout",
          "output_type": "stream",
          "text": [
            "1536\n",
            "[0.06261987239122391, 0.06903039664030075, 0.004282640293240547, 0.029844114556908607, 0.007974065840244293]\n"
          ]
        }
      ],
      "source": [
        "text_to_embed = \"문장의 의미를 가지고 임베딩합니다.\"\n",
        "embedding = client.embeddings.create(\n",
        "    input=text_to_embed, model=\"text-embedding-3-small\"\n",
        ").data[0].embedding\n",
        "print(len(embedding))\n",
        "print(embedding[:5])"
      ]
    },
    {
      "cell_type": "markdown",
      "metadata": {
        "id": "dQAc6upNwUvF"
      },
      "source": [
        "# 임베딩을 사용한 검색"
      ]
    },
    {
      "cell_type": "code",
      "execution_count": 5,
      "metadata": {
        "id": "EOAvjQhLwUvG"
      },
      "outputs": [],
      "source": [
        "def get_embedding(text):\n",
        "    return client.embeddings.create(input=text, model=\"text-embedding-3-small\").data[0].embedding\n"
      ]
    },
    {
      "cell_type": "code",
      "execution_count": 6,
      "metadata": {
        "colab": {
          "base_uri": "https://localhost:8080/"
        },
        "id": "SbjbDCISwUvG",
        "outputId": "d217341b-7728-4eac-9957-f4ec278143de"
      },
      "outputs": [
        {
          "name": "stdout",
          "output_type": "stream",
          "text": [
            "--2024-07-11 06:45:58--  https://raw.githubusercontent.com/dhrim/2024_kangnam_hallym_workshop/main/material/data/fine_food_reviews_with_embeddings_1k.csv\n",
            "Resolving raw.githubusercontent.com (raw.githubusercontent.com)... 185.199.108.133, 185.199.109.133, 185.199.110.133, ...\n",
            "Connecting to raw.githubusercontent.com (raw.githubusercontent.com)|185.199.108.133|:443... connected.\n",
            "HTTP request sent, awaiting response... 200 OK\n",
            "Length: 35046315 (33M) [text/plain]\n",
            "Saving to: ‘fine_food_reviews_with_embeddings_1k.csv’\n",
            "\n",
            "fine_food_reviews_w 100%[===================>]  33.42M   188MB/s    in 0.2s    \n",
            "\n",
            "2024-07-11 06:45:59 (188 MB/s) - ‘fine_food_reviews_with_embeddings_1k.csv’ saved [35046315/35046315]\n",
            "\n"
          ]
        }
      ],
      "source": [
        "!wget https://raw.githubusercontent.com/dhrim/2024_kangnam_hallym_workshop/main/material/data/fine_food_reviews_with_embeddings_1k.csv -O fine_food_reviews_with_embeddings_1k.csv"
      ]
    },
    {
      "cell_type": "code",
      "execution_count": 7,
      "metadata": {
        "id": "VbwIvVrmwUvH"
      },
      "outputs": [],
      "source": [
        "from ast import literal_eval\n",
        "\n",
        "datafile_path = \"fine_food_reviews_with_embeddings_1k.csv\"\n",
        "\n",
        "df = pd.read_csv(datafile_path)\n",
        "df[\"embedding\"] = df.embedding.apply(literal_eval).apply(np.array)"
      ]
    },
    {
      "cell_type": "code",
      "execution_count": 8,
      "metadata": {
        "colab": {
          "base_uri": "https://localhost:8080/"
        },
        "id": "rAbqRenNwUvH",
        "outputId": "6f6445b9-3a83-474f-8bb4-af519cb58207"
      },
      "outputs": [
        {
          "name": "stdout",
          "output_type": "stream",
          "text": [
            "Delicious!:  I enjoy this white beans seasoning, it gives a rich flavor to the beans I just love it, my mother in law didn't know about this Zatarain's brand and now she is traying different seasoning\n",
            "\n",
            "Fantastic Instant Refried beans:  Fantastic Instant Refried Beans have been a staple for my family now for nearly 20 years.  All 7 of us love it and my grown kids are passing on the tradition.\n",
            "\n",
            "Delicious:  While there may be better coffee beans available, this is my first purchase and my first time grinding my own beans.  I read several reviews before purchasing this brand, and am extremely \n",
            "\n"
          ]
        }
      ],
      "source": [
        "from sklearn.metrics.pairwise import cosine_similarity\n",
        "\n",
        "\n",
        "# search through the reviews for a specific product\n",
        "def search_reviews(df, product_description, n=3, pprint=True):\n",
        "    product_embedding = np.array(get_embedding(product_description))\n",
        "    df[\"similarity\"] = df.embedding.apply(lambda x: cosine_similarity(x.reshape(1, -1), product_embedding.reshape(1, -1)))\n",
        "\n",
        "    results = (\n",
        "        df.sort_values(\"similarity\", ascending=False)\n",
        "        .head(n)\n",
        "        .combined.str.replace(\"Title: \", \"\")\n",
        "        .str.replace(\"; Content:\", \": \")\n",
        "    )\n",
        "    if pprint:\n",
        "        for r in results:\n",
        "            print(r[:200])\n",
        "            print()\n",
        "    return results\n",
        "\n",
        "\n",
        "results = search_reviews(df, \"delicious beans\", n=3)"
      ]
    },
    {
      "cell_type": "code",
      "execution_count": 9,
      "metadata": {
        "colab": {
          "base_uri": "https://localhost:8080/"
        },
        "id": "dU1IkjLAwUvI",
        "outputId": "c8b30857-aa48-4a42-efe0-2a78b8705cc4"
      },
      "outputs": [
        {
          "name": "stdout",
          "output_type": "stream",
          "text": [
            "Great food!:  I wanted a food for a a dog with skin problems. His skin greatly improved with the switch, though he still itches some.  He loves the food. No recalls, American made with American ingred\n",
            "\n",
            "Great food!:  I wanted a food for a a dog with skin problems. His skin greatly improved with the switch, though he still itches some.  He loves the food. No recalls, American made with American ingred\n",
            "\n",
            "Good food:  The only dry food my queen cat will eat. Helps prevent hair balls. Good packaging. Arrives promptly. Recommended by a friend who sells pet food.\n",
            "\n"
          ]
        }
      ],
      "source": [
        "results = search_reviews(df, \"pet food\", n=3)"
      ]
    },
    {
      "cell_type": "code",
      "execution_count": 10,
      "metadata": {
        "colab": {
          "base_uri": "https://localhost:8080/"
        },
        "id": "fbpZbzBbwUvI",
        "outputId": "57fecb50-8768-4700-b788-80445e51afb1"
      },
      "outputs": [
        {
          "name": "stdout",
          "output_type": "stream",
          "text": [
            "Great food!:  I wanted a food for a a dog with skin problems. His skin greatly improved with the switch, though he still itches some.  He loves the food. No recalls, American made with American ingred\n",
            "\n",
            "Great food!:  I wanted a food for a a dog with skin problems. His skin greatly improved with the switch, though he still itches some.  He loves the food. No recalls, American made with American ingred\n",
            "\n",
            "Great for small breeds with sensitive systems:  I have two small mixed breed dogs each under 10 pounds. This is to only food I have found that they can eat with out any problems.\n",
            "\n"
          ]
        }
      ],
      "source": [
        "results = search_reviews(df, \"강아지 먹이\", n=3)"
      ]
    },
    {
      "cell_type": "code",
      "execution_count": 11,
      "metadata": {
        "colab": {
          "base_uri": "https://localhost:8080/"
        },
        "id": "jRPk9qPowUvI",
        "outputId": "9191138f-c9f6-4c93-f3b8-9586a396f245"
      },
      "outputs": [
        {
          "name": "stdout",
          "output_type": "stream",
          "text": [
            "chow time:  a fine delicacy, with a pleasant smell and taste  that my dogs look forward to. Packaging is easy to store and dispose\n",
            "\n",
            "Yummy Chummies:  All my dogs love them. Healthy treats. Not great for training as they crumble when you try to break them into pieces\n",
            "\n",
            "TOXIC INGREDIENTS!  WILL RETURN....:  After reviewing the 3-star review on Amazon, I checked the label on the container. Sure enough, this product contains propylene glycol!!!! as one of the top ingre\n",
            "\n"
          ]
        }
      ],
      "source": [
        "results = search_reviews(df, \"강아지 밥\", n=3)"
      ]
    },
    {
      "cell_type": "code",
      "execution_count": 12,
      "metadata": {
        "colab": {
          "base_uri": "https://localhost:8080/"
        },
        "id": "BEfiOtV2wUvI",
        "outputId": "3e6ddb79-cfb6-404b-963d-f315036fb2bc"
      },
      "outputs": [
        {
          "name": "stdout",
          "output_type": "stream",
          "text": [
            "Yummy Chummies:  All my dogs love them. Healthy treats. Not great for training as they crumble when you try to break them into pieces\n",
            "\n",
            "Woody and Arlo's favorites!:  My two dogs LOVE these!  I cut each strip into bite-sized six pieces.  I like the fact that they are quite a healthy treat and low fat.<br /><a href=\"http://www.amazon.co\n",
            "\n",
            "fine for 13 y.o. doggy:  My Am Staff is about 13 years old and is a very \"food-driven\" dog. He seems to like this version of Eukanuba just fine, although he is not a picky eater at all! The kibble see\n",
            "\n"
          ]
        }
      ],
      "source": [
        "results = search_reviews(df, \"애완동물 음식\", n=3)"
      ]
    },
    {
      "cell_type": "markdown",
      "metadata": {
        "id": "BDFpy5Ibi0FA"
      },
      "source": [
        "# 임베딩을 사용한 분류"
      ]
    },
    {
      "cell_type": "code",
      "execution_count": 13,
      "metadata": {
        "id": "fmh-WkEtjBXR"
      },
      "outputs": [],
      "source": [
        "from sklearn.ensemble import RandomForestClassifier\n",
        "from sklearn.model_selection import train_test_split\n",
        "from sklearn.metrics import classification_report, accuracy_score"
      ]
    },
    {
      "cell_type": "code",
      "execution_count": 14,
      "metadata": {
        "colab": {
          "base_uri": "https://localhost:8080/"
        },
        "id": "2s8x0B8BjDJj",
        "outputId": "9bb679a5-71ae-4e81-ea09-8b1f2c8d1a9a"
      },
      "outputs": [
        {
          "name": "stdout",
          "output_type": "stream",
          "text": [
            "              precision    recall  f1-score   support\n",
            "\n",
            "           1       1.00      0.50      0.67        20\n",
            "           2       1.00      0.38      0.55         8\n",
            "           3       1.00      0.18      0.31        11\n",
            "           4       1.00      0.26      0.41        27\n",
            "           5       0.75      1.00      0.86       134\n",
            "\n",
            "    accuracy                           0.78       200\n",
            "   macro avg       0.95      0.46      0.56       200\n",
            "weighted avg       0.83      0.78      0.74       200\n",
            "\n"
          ]
        }
      ],
      "source": [
        "# split data into train and test\n",
        "x_train, x_test, y_train, y_test = train_test_split(list(df.embedding.values), df.Score, test_size=0.2, random_state=42)\n",
        "\n",
        "# train random forest classifier\n",
        "clf = RandomForestClassifier(n_estimators=100)\n",
        "clf.fit(x_train, y_train)\n",
        "preds = clf.predict(x_test)\n",
        "\n",
        "report = classification_report(y_test, preds)\n",
        "print(report)"
      ]
    },
    {
      "cell_type": "markdown",
      "metadata": {
        "id": "YwnnzVEWwUvJ"
      },
      "source": []
    }
  ],
  "metadata": {
    "colab": {
      "provenance": []
    },
    "kernelspec": {
      "display_name": "Python 3",
      "language": "python",
      "name": "python3"
    },
    "language_info": {
      "codemirror_mode": {
        "name": "ipython",
        "version": 3
      },
      "file_extension": ".py",
      "mimetype": "text/x-python",
      "name": "python",
      "nbconvert_exporter": "python",
      "pygments_lexer": "ipython3",
      "version": "3.10.6"
    }
  },
  "nbformat": 4,
  "nbformat_minor": 0
}

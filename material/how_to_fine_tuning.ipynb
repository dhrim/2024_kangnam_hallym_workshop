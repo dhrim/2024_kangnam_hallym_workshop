{
  "cells": [
    {
      "cell_type": "markdown",
      "metadata": {
        "id": "8RZCFZv-W3tw"
      },
      "source": [
        "# openai 라이브러리 설치"
      ]
    },
    {
      "cell_type": "code",
      "execution_count": 1,
      "metadata": {
        "colab": {
          "base_uri": "https://localhost:8080/"
        },
        "id": "-SThSvclW3tx",
        "outputId": "e278465f-e757-4f7e-88b9-b0ffeb46c4a0"
      },
      "outputs": [
        {
          "output_type": "stream",
          "name": "stdout",
          "text": [
            "Collecting openai==0.28.0\n",
            "  Downloading openai-0.28.0-py3-none-any.whl (76 kB)\n",
            "\u001b[2K     \u001b[90m━━━━━━━━━━━━━━━━━━━━━━━━━━━━━━━━━━━━━━━━\u001b[0m \u001b[32m76.5/76.5 kB\u001b[0m \u001b[31m644.4 kB/s\u001b[0m eta \u001b[36m0:00:00\u001b[0m\n",
            "\u001b[?25hRequirement already satisfied: requests>=2.20 in /usr/local/lib/python3.10/dist-packages (from openai==0.28.0) (2.31.0)\n",
            "Requirement already satisfied: tqdm in /usr/local/lib/python3.10/dist-packages (from openai==0.28.0) (4.66.4)\n",
            "Requirement already satisfied: aiohttp in /usr/local/lib/python3.10/dist-packages (from openai==0.28.0) (3.9.5)\n",
            "Requirement already satisfied: charset-normalizer<4,>=2 in /usr/local/lib/python3.10/dist-packages (from requests>=2.20->openai==0.28.0) (3.3.2)\n",
            "Requirement already satisfied: idna<4,>=2.5 in /usr/local/lib/python3.10/dist-packages (from requests>=2.20->openai==0.28.0) (3.7)\n",
            "Requirement already satisfied: urllib3<3,>=1.21.1 in /usr/local/lib/python3.10/dist-packages (from requests>=2.20->openai==0.28.0) (2.0.7)\n",
            "Requirement already satisfied: certifi>=2017.4.17 in /usr/local/lib/python3.10/dist-packages (from requests>=2.20->openai==0.28.0) (2024.7.4)\n",
            "Requirement already satisfied: aiosignal>=1.1.2 in /usr/local/lib/python3.10/dist-packages (from aiohttp->openai==0.28.0) (1.3.1)\n",
            "Requirement already satisfied: attrs>=17.3.0 in /usr/local/lib/python3.10/dist-packages (from aiohttp->openai==0.28.0) (23.2.0)\n",
            "Requirement already satisfied: frozenlist>=1.1.1 in /usr/local/lib/python3.10/dist-packages (from aiohttp->openai==0.28.0) (1.4.1)\n",
            "Requirement already satisfied: multidict<7.0,>=4.5 in /usr/local/lib/python3.10/dist-packages (from aiohttp->openai==0.28.0) (6.0.5)\n",
            "Requirement already satisfied: yarl<2.0,>=1.0 in /usr/local/lib/python3.10/dist-packages (from aiohttp->openai==0.28.0) (1.9.4)\n",
            "Requirement already satisfied: async-timeout<5.0,>=4.0 in /usr/local/lib/python3.10/dist-packages (from aiohttp->openai==0.28.0) (4.0.3)\n",
            "Installing collected packages: openai\n",
            "Successfully installed openai-0.28.0\n"
          ]
        }
      ],
      "source": [
        "%pip install openai==0.28.0"
      ]
    },
    {
      "cell_type": "markdown",
      "metadata": {
        "id": "OXKYXBquW3ty"
      },
      "source": [
        "# 필요 라이브러리 설치"
      ]
    },
    {
      "cell_type": "code",
      "execution_count": 2,
      "metadata": {
        "colab": {
          "base_uri": "https://localhost:8080/"
        },
        "id": "GAk93sQpW3tz",
        "outputId": "a267f24a-dd1a-44d2-c49d-cbee0f945696"
      },
      "outputs": [
        {
          "output_type": "stream",
          "name": "stdout",
          "text": [
            "Requirement already satisfied: tenacity in /usr/local/lib/python3.10/dist-packages (8.5.0)\n",
            "Requirement already satisfied: numpy in /usr/local/lib/python3.10/dist-packages (1.25.2)\n",
            "Collecting numpy\n",
            "  Downloading numpy-2.0.0-cp310-cp310-manylinux_2_17_x86_64.manylinux2014_x86_64.whl (19.3 MB)\n",
            "\u001b[2K     \u001b[90m━━━━━━━━━━━━━━━━━━━━━━━━━━━━━━━━━━━━━━━━\u001b[0m \u001b[32m19.3/19.3 MB\u001b[0m \u001b[31m33.5 MB/s\u001b[0m eta \u001b[36m0:00:00\u001b[0m\n",
            "\u001b[?25hInstalling collected packages: numpy\n",
            "  Attempting uninstall: numpy\n",
            "    Found existing installation: numpy 1.25.2\n",
            "    Uninstalling numpy-1.25.2:\n",
            "      Successfully uninstalled numpy-1.25.2\n",
            "\u001b[31mERROR: pip's dependency resolver does not currently take into account all the packages that are installed. This behaviour is the source of the following dependency conflicts.\n",
            "astropy 5.3.4 requires numpy<2,>=1.21, but you have numpy 2.0.0 which is incompatible.\n",
            "cudf-cu12 24.4.1 requires numpy<2.0a0,>=1.23, but you have numpy 2.0.0 which is incompatible.\n",
            "cupy-cuda12x 12.2.0 requires numpy<1.27,>=1.20, but you have numpy 2.0.0 which is incompatible.\n",
            "ibis-framework 8.0.0 requires numpy<2,>=1, but you have numpy 2.0.0 which is incompatible.\n",
            "numba 0.58.1 requires numpy<1.27,>=1.22, but you have numpy 2.0.0 which is incompatible.\n",
            "rmm-cu12 24.4.0 requires numpy<2.0a0,>=1.23, but you have numpy 2.0.0 which is incompatible.\n",
            "scipy 1.11.4 requires numpy<1.28.0,>=1.21.6, but you have numpy 2.0.0 which is incompatible.\n",
            "tensorflow 2.15.0 requires numpy<2.0.0,>=1.23.5, but you have numpy 2.0.0 which is incompatible.\n",
            "thinc 8.2.5 requires numpy<2.0.0,>=1.19.0; python_version >= \"3.9\", but you have numpy 2.0.0 which is incompatible.\u001b[0m\u001b[31m\n",
            "\u001b[0mSuccessfully installed numpy-2.0.0\n"
          ]
        }
      ],
      "source": [
        "%pip install --upgrade tenacity\n",
        "%pip install --upgrade numpy"
      ]
    },
    {
      "cell_type": "code",
      "execution_count": 4,
      "metadata": {
        "id": "uj4DHp8MW3tz"
      },
      "outputs": [],
      "source": [
        "import json\n",
        "import os\n",
        "import pandas as pd\n",
        "from pprint import pprint"
      ]
    },
    {
      "cell_type": "markdown",
      "metadata": {
        "id": "i8a2Czt7W3tz"
      },
      "source": [
        "# openai 사용 선언과 키 설정"
      ]
    },
    {
      "cell_type": "code",
      "execution_count": 5,
      "metadata": {
        "id": "OrFQEjTBW3tz"
      },
      "outputs": [],
      "source": [
        "import openai\n",
        "\n",
        "openai.api_key = \"\""
      ]
    },
    {
      "cell_type": "code",
      "execution_count": null,
      "metadata": {
        "id": "bybQnsPvW3tz"
      },
      "outputs": [],
      "source": []
    },
    {
      "cell_type": "markdown",
      "metadata": {
        "id": "DrpA0L78W3t0"
      },
      "source": [
        "# 데이터 읽기"
      ]
    },
    {
      "cell_type": "code",
      "source": [
        "!wget https://raw.githubusercontent.com/dhrim/2024_kangnam_hallym_workshop/main/material/data/cookbook_recipes.csv -O cookbook_recipes.csv\n"
      ],
      "metadata": {
        "colab": {
          "base_uri": "https://localhost:8080/"
        },
        "id": "l1Fg4WPEXm5e",
        "outputId": "a0bb24dc-9697-438f-e3b8-8699b4433a8b"
      },
      "execution_count": 20,
      "outputs": [
        {
          "output_type": "stream",
          "name": "stdout",
          "text": [
            "--2024-07-13 23:17:24--  https://raw.githubusercontent.com/dhrim/2024_kangnam_hallym_workshop/main/material/data/cookbook_recipes.csv\n",
            "Resolving raw.githubusercontent.com (raw.githubusercontent.com)... 185.199.108.133, 185.199.109.133, 185.199.110.133, ...\n",
            "Connecting to raw.githubusercontent.com (raw.githubusercontent.com)|185.199.108.133|:443... connected.\n",
            "HTTP request sent, awaiting response... 200 OK\n",
            "Length: 63471 (62K) [text/plain]\n",
            "Saving to: ‘cookbook_recipes.csv’\n",
            "\n",
            "cookbook_recipes.cs 100%[===================>]  61.98K  --.-KB/s    in 0.02s   \n",
            "\n",
            "2024-07-13 23:17:25 (2.73 MB/s) - ‘cookbook_recipes.csv’ saved [63471/63471]\n",
            "\n"
          ]
        }
      ]
    },
    {
      "cell_type": "code",
      "execution_count": 7,
      "metadata": {
        "colab": {
          "base_uri": "https://localhost:8080/",
          "height": 380
        },
        "id": "qmedCV1UW3t0",
        "outputId": "c0adc878-bc26-49ae-fb7a-8f0e162b7515"
      },
      "outputs": [
        {
          "output_type": "execute_result",
          "data": {
            "text/plain": [
              "                   title                                        ingredients  \\\n",
              "0    No-Bake Nut Cookies  [\"1 c. firmly packed brown sugar\", \"1/2 c. eva...   \n",
              "1  Jewell Ball'S Chicken  [\"1 small jar chipped beef, cut up\", \"4 boned ...   \n",
              "2            Creamy Corn  [\"2 (16 oz.) pkg. frozen corn\", \"1 (8 oz.) pkg...   \n",
              "3          Chicken Funny  [\"1 large whole chicken\", \"2 (10 1/2 oz.) cans...   \n",
              "4   Reeses Cups(Candy)    [\"1 c. peanut butter\", \"3/4 c. graham cracker ...   \n",
              "\n",
              "                                          directions  \\\n",
              "0  [\"In a heavy 2-quart saucepan, mix brown sugar...   \n",
              "1  [\"Place chipped beef on bottom of baking dish....   \n",
              "2  [\"In a slow cooker, combine all ingredients. C...   \n",
              "3  [\"Boil and debone chicken.\", \"Put bite size pi...   \n",
              "4  [\"Combine first four ingredients and press in ...   \n",
              "\n",
              "                                              link             source  \\\n",
              "0   www.cookbooks.com/Recipe-Details.aspx?id=44874  www.cookbooks.com   \n",
              "1  www.cookbooks.com/Recipe-Details.aspx?id=699419  www.cookbooks.com   \n",
              "2   www.cookbooks.com/Recipe-Details.aspx?id=10570  www.cookbooks.com   \n",
              "3  www.cookbooks.com/Recipe-Details.aspx?id=897570  www.cookbooks.com   \n",
              "4  www.cookbooks.com/Recipe-Details.aspx?id=659239  www.cookbooks.com   \n",
              "\n",
              "                                                 NER  \n",
              "0  [\"brown sugar\", \"milk\", \"vanilla\", \"nuts\", \"bu...  \n",
              "1  [\"beef\", \"chicken breasts\", \"cream of mushroom...  \n",
              "2  [\"frozen corn\", \"cream cheese\", \"butter\", \"gar...  \n",
              "3  [\"chicken\", \"chicken gravy\", \"cream of mushroo...  \n",
              "4  [\"peanut butter\", \"graham cracker crumbs\", \"bu...  "
            ],
            "text/html": [
              "\n",
              "  <div id=\"df-30fa8010-6887-4213-8e97-159190553dd5\" class=\"colab-df-container\">\n",
              "    <div>\n",
              "<style scoped>\n",
              "    .dataframe tbody tr th:only-of-type {\n",
              "        vertical-align: middle;\n",
              "    }\n",
              "\n",
              "    .dataframe tbody tr th {\n",
              "        vertical-align: top;\n",
              "    }\n",
              "\n",
              "    .dataframe thead th {\n",
              "        text-align: right;\n",
              "    }\n",
              "</style>\n",
              "<table border=\"1\" class=\"dataframe\">\n",
              "  <thead>\n",
              "    <tr style=\"text-align: right;\">\n",
              "      <th></th>\n",
              "      <th>title</th>\n",
              "      <th>ingredients</th>\n",
              "      <th>directions</th>\n",
              "      <th>link</th>\n",
              "      <th>source</th>\n",
              "      <th>NER</th>\n",
              "    </tr>\n",
              "  </thead>\n",
              "  <tbody>\n",
              "    <tr>\n",
              "      <th>0</th>\n",
              "      <td>No-Bake Nut Cookies</td>\n",
              "      <td>[\"1 c. firmly packed brown sugar\", \"1/2 c. eva...</td>\n",
              "      <td>[\"In a heavy 2-quart saucepan, mix brown sugar...</td>\n",
              "      <td>www.cookbooks.com/Recipe-Details.aspx?id=44874</td>\n",
              "      <td>www.cookbooks.com</td>\n",
              "      <td>[\"brown sugar\", \"milk\", \"vanilla\", \"nuts\", \"bu...</td>\n",
              "    </tr>\n",
              "    <tr>\n",
              "      <th>1</th>\n",
              "      <td>Jewell Ball'S Chicken</td>\n",
              "      <td>[\"1 small jar chipped beef, cut up\", \"4 boned ...</td>\n",
              "      <td>[\"Place chipped beef on bottom of baking dish....</td>\n",
              "      <td>www.cookbooks.com/Recipe-Details.aspx?id=699419</td>\n",
              "      <td>www.cookbooks.com</td>\n",
              "      <td>[\"beef\", \"chicken breasts\", \"cream of mushroom...</td>\n",
              "    </tr>\n",
              "    <tr>\n",
              "      <th>2</th>\n",
              "      <td>Creamy Corn</td>\n",
              "      <td>[\"2 (16 oz.) pkg. frozen corn\", \"1 (8 oz.) pkg...</td>\n",
              "      <td>[\"In a slow cooker, combine all ingredients. C...</td>\n",
              "      <td>www.cookbooks.com/Recipe-Details.aspx?id=10570</td>\n",
              "      <td>www.cookbooks.com</td>\n",
              "      <td>[\"frozen corn\", \"cream cheese\", \"butter\", \"gar...</td>\n",
              "    </tr>\n",
              "    <tr>\n",
              "      <th>3</th>\n",
              "      <td>Chicken Funny</td>\n",
              "      <td>[\"1 large whole chicken\", \"2 (10 1/2 oz.) cans...</td>\n",
              "      <td>[\"Boil and debone chicken.\", \"Put bite size pi...</td>\n",
              "      <td>www.cookbooks.com/Recipe-Details.aspx?id=897570</td>\n",
              "      <td>www.cookbooks.com</td>\n",
              "      <td>[\"chicken\", \"chicken gravy\", \"cream of mushroo...</td>\n",
              "    </tr>\n",
              "    <tr>\n",
              "      <th>4</th>\n",
              "      <td>Reeses Cups(Candy)</td>\n",
              "      <td>[\"1 c. peanut butter\", \"3/4 c. graham cracker ...</td>\n",
              "      <td>[\"Combine first four ingredients and press in ...</td>\n",
              "      <td>www.cookbooks.com/Recipe-Details.aspx?id=659239</td>\n",
              "      <td>www.cookbooks.com</td>\n",
              "      <td>[\"peanut butter\", \"graham cracker crumbs\", \"bu...</td>\n",
              "    </tr>\n",
              "  </tbody>\n",
              "</table>\n",
              "</div>\n",
              "    <div class=\"colab-df-buttons\">\n",
              "\n",
              "  <div class=\"colab-df-container\">\n",
              "    <button class=\"colab-df-convert\" onclick=\"convertToInteractive('df-30fa8010-6887-4213-8e97-159190553dd5')\"\n",
              "            title=\"Convert this dataframe to an interactive table.\"\n",
              "            style=\"display:none;\">\n",
              "\n",
              "  <svg xmlns=\"http://www.w3.org/2000/svg\" height=\"24px\" viewBox=\"0 -960 960 960\">\n",
              "    <path d=\"M120-120v-720h720v720H120Zm60-500h600v-160H180v160Zm220 220h160v-160H400v160Zm0 220h160v-160H400v160ZM180-400h160v-160H180v160Zm440 0h160v-160H620v160ZM180-180h160v-160H180v160Zm440 0h160v-160H620v160Z\"/>\n",
              "  </svg>\n",
              "    </button>\n",
              "\n",
              "  <style>\n",
              "    .colab-df-container {\n",
              "      display:flex;\n",
              "      gap: 12px;\n",
              "    }\n",
              "\n",
              "    .colab-df-convert {\n",
              "      background-color: #E8F0FE;\n",
              "      border: none;\n",
              "      border-radius: 50%;\n",
              "      cursor: pointer;\n",
              "      display: none;\n",
              "      fill: #1967D2;\n",
              "      height: 32px;\n",
              "      padding: 0 0 0 0;\n",
              "      width: 32px;\n",
              "    }\n",
              "\n",
              "    .colab-df-convert:hover {\n",
              "      background-color: #E2EBFA;\n",
              "      box-shadow: 0px 1px 2px rgba(60, 64, 67, 0.3), 0px 1px 3px 1px rgba(60, 64, 67, 0.15);\n",
              "      fill: #174EA6;\n",
              "    }\n",
              "\n",
              "    .colab-df-buttons div {\n",
              "      margin-bottom: 4px;\n",
              "    }\n",
              "\n",
              "    [theme=dark] .colab-df-convert {\n",
              "      background-color: #3B4455;\n",
              "      fill: #D2E3FC;\n",
              "    }\n",
              "\n",
              "    [theme=dark] .colab-df-convert:hover {\n",
              "      background-color: #434B5C;\n",
              "      box-shadow: 0px 1px 3px 1px rgba(0, 0, 0, 0.15);\n",
              "      filter: drop-shadow(0px 1px 2px rgba(0, 0, 0, 0.3));\n",
              "      fill: #FFFFFF;\n",
              "    }\n",
              "  </style>\n",
              "\n",
              "    <script>\n",
              "      const buttonEl =\n",
              "        document.querySelector('#df-30fa8010-6887-4213-8e97-159190553dd5 button.colab-df-convert');\n",
              "      buttonEl.style.display =\n",
              "        google.colab.kernel.accessAllowed ? 'block' : 'none';\n",
              "\n",
              "      async function convertToInteractive(key) {\n",
              "        const element = document.querySelector('#df-30fa8010-6887-4213-8e97-159190553dd5');\n",
              "        const dataTable =\n",
              "          await google.colab.kernel.invokeFunction('convertToInteractive',\n",
              "                                                    [key], {});\n",
              "        if (!dataTable) return;\n",
              "\n",
              "        const docLinkHtml = 'Like what you see? Visit the ' +\n",
              "          '<a target=\"_blank\" href=https://colab.research.google.com/notebooks/data_table.ipynb>data table notebook</a>'\n",
              "          + ' to learn more about interactive tables.';\n",
              "        element.innerHTML = '';\n",
              "        dataTable['output_type'] = 'display_data';\n",
              "        await google.colab.output.renderOutput(dataTable, element);\n",
              "        const docLink = document.createElement('div');\n",
              "        docLink.innerHTML = docLinkHtml;\n",
              "        element.appendChild(docLink);\n",
              "      }\n",
              "    </script>\n",
              "  </div>\n",
              "\n",
              "\n",
              "<div id=\"df-06791049-f4cf-4e41-ae80-1c86d48c8af9\">\n",
              "  <button class=\"colab-df-quickchart\" onclick=\"quickchart('df-06791049-f4cf-4e41-ae80-1c86d48c8af9')\"\n",
              "            title=\"Suggest charts\"\n",
              "            style=\"display:none;\">\n",
              "\n",
              "<svg xmlns=\"http://www.w3.org/2000/svg\" height=\"24px\"viewBox=\"0 0 24 24\"\n",
              "     width=\"24px\">\n",
              "    <g>\n",
              "        <path d=\"M19 3H5c-1.1 0-2 .9-2 2v14c0 1.1.9 2 2 2h14c1.1 0 2-.9 2-2V5c0-1.1-.9-2-2-2zM9 17H7v-7h2v7zm4 0h-2V7h2v10zm4 0h-2v-4h2v4z\"/>\n",
              "    </g>\n",
              "</svg>\n",
              "  </button>\n",
              "\n",
              "<style>\n",
              "  .colab-df-quickchart {\n",
              "      --bg-color: #E8F0FE;\n",
              "      --fill-color: #1967D2;\n",
              "      --hover-bg-color: #E2EBFA;\n",
              "      --hover-fill-color: #174EA6;\n",
              "      --disabled-fill-color: #AAA;\n",
              "      --disabled-bg-color: #DDD;\n",
              "  }\n",
              "\n",
              "  [theme=dark] .colab-df-quickchart {\n",
              "      --bg-color: #3B4455;\n",
              "      --fill-color: #D2E3FC;\n",
              "      --hover-bg-color: #434B5C;\n",
              "      --hover-fill-color: #FFFFFF;\n",
              "      --disabled-bg-color: #3B4455;\n",
              "      --disabled-fill-color: #666;\n",
              "  }\n",
              "\n",
              "  .colab-df-quickchart {\n",
              "    background-color: var(--bg-color);\n",
              "    border: none;\n",
              "    border-radius: 50%;\n",
              "    cursor: pointer;\n",
              "    display: none;\n",
              "    fill: var(--fill-color);\n",
              "    height: 32px;\n",
              "    padding: 0;\n",
              "    width: 32px;\n",
              "  }\n",
              "\n",
              "  .colab-df-quickchart:hover {\n",
              "    background-color: var(--hover-bg-color);\n",
              "    box-shadow: 0 1px 2px rgba(60, 64, 67, 0.3), 0 1px 3px 1px rgba(60, 64, 67, 0.15);\n",
              "    fill: var(--button-hover-fill-color);\n",
              "  }\n",
              "\n",
              "  .colab-df-quickchart-complete:disabled,\n",
              "  .colab-df-quickchart-complete:disabled:hover {\n",
              "    background-color: var(--disabled-bg-color);\n",
              "    fill: var(--disabled-fill-color);\n",
              "    box-shadow: none;\n",
              "  }\n",
              "\n",
              "  .colab-df-spinner {\n",
              "    border: 2px solid var(--fill-color);\n",
              "    border-color: transparent;\n",
              "    border-bottom-color: var(--fill-color);\n",
              "    animation:\n",
              "      spin 1s steps(1) infinite;\n",
              "  }\n",
              "\n",
              "  @keyframes spin {\n",
              "    0% {\n",
              "      border-color: transparent;\n",
              "      border-bottom-color: var(--fill-color);\n",
              "      border-left-color: var(--fill-color);\n",
              "    }\n",
              "    20% {\n",
              "      border-color: transparent;\n",
              "      border-left-color: var(--fill-color);\n",
              "      border-top-color: var(--fill-color);\n",
              "    }\n",
              "    30% {\n",
              "      border-color: transparent;\n",
              "      border-left-color: var(--fill-color);\n",
              "      border-top-color: var(--fill-color);\n",
              "      border-right-color: var(--fill-color);\n",
              "    }\n",
              "    40% {\n",
              "      border-color: transparent;\n",
              "      border-right-color: var(--fill-color);\n",
              "      border-top-color: var(--fill-color);\n",
              "    }\n",
              "    60% {\n",
              "      border-color: transparent;\n",
              "      border-right-color: var(--fill-color);\n",
              "    }\n",
              "    80% {\n",
              "      border-color: transparent;\n",
              "      border-right-color: var(--fill-color);\n",
              "      border-bottom-color: var(--fill-color);\n",
              "    }\n",
              "    90% {\n",
              "      border-color: transparent;\n",
              "      border-bottom-color: var(--fill-color);\n",
              "    }\n",
              "  }\n",
              "</style>\n",
              "\n",
              "  <script>\n",
              "    async function quickchart(key) {\n",
              "      const quickchartButtonEl =\n",
              "        document.querySelector('#' + key + ' button');\n",
              "      quickchartButtonEl.disabled = true;  // To prevent multiple clicks.\n",
              "      quickchartButtonEl.classList.add('colab-df-spinner');\n",
              "      try {\n",
              "        const charts = await google.colab.kernel.invokeFunction(\n",
              "            'suggestCharts', [key], {});\n",
              "      } catch (error) {\n",
              "        console.error('Error during call to suggestCharts:', error);\n",
              "      }\n",
              "      quickchartButtonEl.classList.remove('colab-df-spinner');\n",
              "      quickchartButtonEl.classList.add('colab-df-quickchart-complete');\n",
              "    }\n",
              "    (() => {\n",
              "      let quickchartButtonEl =\n",
              "        document.querySelector('#df-06791049-f4cf-4e41-ae80-1c86d48c8af9 button');\n",
              "      quickchartButtonEl.style.display =\n",
              "        google.colab.kernel.accessAllowed ? 'block' : 'none';\n",
              "    })();\n",
              "  </script>\n",
              "</div>\n",
              "\n",
              "    </div>\n",
              "  </div>\n"
            ],
            "application/vnd.google.colaboratory.intrinsic+json": {
              "type": "dataframe",
              "variable_name": "recipe_df",
              "summary": "{\n  \"name\": \"recipe_df\",\n  \"rows\": 100,\n  \"fields\": [\n    {\n      \"column\": \"title\",\n      \"properties\": {\n        \"dtype\": \"string\",\n        \"num_unique_values\": 100,\n        \"samples\": [\n          \"Brown Rice\",\n          \"Three Bean Salad\",\n          \"Dot'S Civil War Cake\"\n        ],\n        \"semantic_type\": \"\",\n        \"description\": \"\"\n      }\n    },\n    {\n      \"column\": \"ingredients\",\n      \"properties\": {\n        \"dtype\": \"string\",\n        \"num_unique_values\": 100,\n        \"samples\": [\n          \"[\\\"1 c. raw rice\\\", \\\"1 can beef consomme\\\", \\\"1 can French onion soup\\\", \\\"1 (4 oz.) can mushrooms\\\", \\\"1/2 stick margarine, cut up\\\"]\",\n          \"[\\\"1 can green beans, wash and drain\\\", \\\"1 can yellow beans, wash and drain\\\", \\\"1 can kidney beans, wash and drain\\\", \\\"1 c. sugar\\\", \\\"1/2 c. salad oil\\\", \\\"2/3 c. vinegar\\\", \\\"1/3 c. water\\\"]\",\n          \"[\\\"3 medium apples, chopped\\\", \\\"2 c. raisins\\\", \\\"1 c. brown sugar\\\", \\\"1 c. granulated sugar\\\", \\\"2 Tbsp. shortening\\\", \\\"2 c. cold water\\\", \\\"3 c. flour\\\", \\\"2 tsp. soda\\\", \\\"1 tsp. cinnamon\\\", \\\"1 tsp. nutmeg\\\", \\\"1 tsp. cloves\\\", \\\"1 tsp. salt\\\", \\\"1 c. nuts\\\"]\"\n        ],\n        \"semantic_type\": \"\",\n        \"description\": \"\"\n      }\n    },\n    {\n      \"column\": \"directions\",\n      \"properties\": {\n        \"dtype\": \"string\",\n        \"num_unique_values\": 100,\n        \"samples\": [\n          \"[\\\"Put in a covered 1 1/2-quart dish.\\\", \\\"Bake 1 hour at 350\\\\u00b0.\\\"]\",\n          \"[\\\"Mix together all of sugar, salad oil, vinegar and water until sugar is dissolved.\\\", \\\"Pour over beans and let stand overnight.\\\"]\",\n          \"[\\\"Combine and cook first 6 ingredients.\\\", \\\"Bring to boil and boil 5 minutes; cool.\\\", \\\"Add sifted, dry ingredients to apple mixture. Stir and blend only.\\\", \\\"Add nuts.\\\", \\\"Pour into greased and floured tube pan.\\\", \\\"Bake 1 hour at 350\\\\u00b0.\\\", \\\"Serves 16.\\\"]\"\n        ],\n        \"semantic_type\": \"\",\n        \"description\": \"\"\n      }\n    },\n    {\n      \"column\": \"link\",\n      \"properties\": {\n        \"dtype\": \"string\",\n        \"num_unique_values\": 100,\n        \"samples\": [\n          \"www.cookbooks.com/Recipe-Details.aspx?id=330188\",\n          \"www.cookbooks.com/Recipe-Details.aspx?id=272785\",\n          \"www.cookbooks.com/Recipe-Details.aspx?id=433749\"\n        ],\n        \"semantic_type\": \"\",\n        \"description\": \"\"\n      }\n    },\n    {\n      \"column\": \"source\",\n      \"properties\": {\n        \"dtype\": \"category\",\n        \"num_unique_values\": 1,\n        \"samples\": [\n          \"www.cookbooks.com\"\n        ],\n        \"semantic_type\": \"\",\n        \"description\": \"\"\n      }\n    },\n    {\n      \"column\": \"NER\",\n      \"properties\": {\n        \"dtype\": \"string\",\n        \"num_unique_values\": 100,\n        \"samples\": [\n          \"[\\\"rice\\\", \\\"beef consomme\\\", \\\"onion soup\\\", \\\"mushrooms\\\", \\\"margarine\\\"]\"\n        ],\n        \"semantic_type\": \"\",\n        \"description\": \"\"\n      }\n    }\n  ]\n}"
            }
          },
          "metadata": {},
          "execution_count": 7
        }
      ],
      "source": [
        "recipe_df = pd.read_csv(\"cookbook_recipes.csv\")\n",
        "\n",
        "recipe_df.head()"
      ]
    },
    {
      "cell_type": "markdown",
      "metadata": {
        "id": "aqvdUUduW3t0"
      },
      "source": [
        "# 학습 데이터 준비\n",
        "\n",
        "학습 데이터는 다음과 같은 형태로 준비한다.\n",
        "\n",
        "```\n",
        "[\n",
        "  {'role': 'system', 'content': 'GPT의 역할을 명시한다.'},\n",
        "  {'role': 'user', 'content': 'GPT에게 전달할 입력 값'},\n",
        "  {'role': 'assistant', 'content': 'GPT가 입력 데이터를 받아서 출력할 값'}\n",
        " ]\n",
        "```\n",
        "\n",
        "본 실습에서는 조리법을 입력으로 하여 재료성분을 출력하려 한다. <br>\n",
        "GPT는 재료 성분을 추출하는 역할을 하고, 입력으로 읽어들인 데이터에서 title과 ingredient 상세로 하고, 출력으로 재료성분 리스트를 출력하게 한다.<br>\n",
        "\n",
        "\n",
        "실제 학습 데이터는 다음과 같다.\n",
        "\n",
        "```\n",
        "[\n",
        "  {'role': 'system', 'content': 'You are a helpful recipe assistant. You are to extract the generic ingredients from each of the recipes provided.'},\n",
        "\n",
        "  {'role': 'user', 'content': 'Title: No-Bake Nut Cookies\\n\\nIngredients: [\"1 c. firmly packed brown sugar\", \"1/2 c. evaporated milk\", \"1/2 tsp. vanilla\", \"1/2 c. broken nuts (pecans)\", \"2 Tbsp. butter or margarine\", \"3 1/2 c. bite size shredded rice biscuits\"]\\n\\nGeneric ingredients: '},\n",
        "\n",
        "  {'role': 'assistant', 'content': '[\"brown sugar\", \"milk\", \"vanilla\", \"nuts\", \"butter\", \"bite size shredded rice biscuits\"]'}\n",
        " ]\n",
        "```"
      ]
    },
    {
      "cell_type": "markdown",
      "metadata": {
        "id": "9wxeB6x6W3t0"
      },
      "source": [
        "다음 코드는 파일에서 읽은 데이터를 학습에 필요한 데이터 포멧으로 변경하는 함수이다."
      ]
    },
    {
      "cell_type": "code",
      "execution_count": 8,
      "metadata": {
        "colab": {
          "base_uri": "https://localhost:8080/"
        },
        "id": "7_TPg_lsW3t0",
        "outputId": "94783602-206a-4f13-f140-96e187860247"
      },
      "outputs": [
        {
          "output_type": "stream",
          "name": "stdout",
          "text": [
            "{'messages': [{'content': 'You are a helpful recipe assistant. You are to '\n",
            "                          'extract the generic ingredients from each of the '\n",
            "                          'recipes provided.',\n",
            "               'role': 'system'},\n",
            "              {'content': 'Title: No-Bake Nut Cookies\\n'\n",
            "                          '\\n'\n",
            "                          'Ingredients: [\"1 c. firmly packed brown sugar\", '\n",
            "                          '\"1/2 c. evaporated milk\", \"1/2 tsp. vanilla\", \"1/2 '\n",
            "                          'c. broken nuts (pecans)\", \"2 Tbsp. butter or '\n",
            "                          'margarine\", \"3 1/2 c. bite size shredded rice '\n",
            "                          'biscuits\"]\\n'\n",
            "                          '\\n'\n",
            "                          'Generic ingredients: ',\n",
            "               'role': 'user'},\n",
            "              {'content': '[\"brown sugar\", \"milk\", \"vanilla\", \"nuts\", '\n",
            "                          '\"butter\", \"bite size shredded rice biscuits\"]',\n",
            "               'role': 'assistant'}]}\n"
          ]
        }
      ],
      "source": [
        "training_data = []\n",
        "\n",
        "system_message = \"You are a helpful recipe assistant. You are to extract the generic ingredients from each of the recipes provided.\"\n",
        "\n",
        "def create_user_message(row):\n",
        "    return f\"\"\"Title: {row['title']}\\n\\nIngredients: {row['ingredients']}\\n\\nGeneric ingredients: \"\"\"\n",
        "\n",
        "def prepare_example_conversation(row):\n",
        "    messages = []\n",
        "    messages.append({\"role\": \"system\", \"content\": system_message})\n",
        "\n",
        "    user_message = create_user_message(row)\n",
        "    messages.append({\"role\": \"user\", \"content\": user_message})\n",
        "\n",
        "    messages.append({\"role\": \"assistant\", \"content\": row[\"NER\"]})\n",
        "\n",
        "    return {\"messages\": messages}\n",
        "\n",
        "pprint(prepare_example_conversation(recipe_df.iloc[0]))"
      ]
    },
    {
      "cell_type": "markdown",
      "metadata": {
        "id": "_L6VS9FEW3t1"
      },
      "source": [
        "# 실제 데이터 생성"
      ]
    },
    {
      "cell_type": "markdown",
      "metadata": {
        "id": "GHuGpTkiW3t1"
      },
      "source": [
        "학습 데이터를 생성한다. 80개"
      ]
    },
    {
      "cell_type": "code",
      "execution_count": 9,
      "metadata": {
        "colab": {
          "base_uri": "https://localhost:8080/"
        },
        "id": "3PfZwAYuW3t1",
        "outputId": "667d4fa0-5ae9-47f3-bd31-523e7ae30de5"
      },
      "outputs": [
        {
          "output_type": "stream",
          "name": "stdout",
          "text": [
            "{'messages': [{'role': 'system', 'content': 'You are a helpful recipe assistant. You are to extract the generic ingredients from each of the recipes provided.'}, {'role': 'user', 'content': 'Title: No-Bake Nut Cookies\\n\\nIngredients: [\"1 c. firmly packed brown sugar\", \"1/2 c. evaporated milk\", \"1/2 tsp. vanilla\", \"1/2 c. broken nuts (pecans)\", \"2 Tbsp. butter or margarine\", \"3 1/2 c. bite size shredded rice biscuits\"]\\n\\nGeneric ingredients: '}, {'role': 'assistant', 'content': '[\"brown sugar\", \"milk\", \"vanilla\", \"nuts\", \"butter\", \"bite size shredded rice biscuits\"]'}]}\n",
            "{'messages': [{'role': 'system', 'content': 'You are a helpful recipe assistant. You are to extract the generic ingredients from each of the recipes provided.'}, {'role': 'user', 'content': 'Title: Jewell Ball\\'S Chicken\\n\\nIngredients: [\"1 small jar chipped beef, cut up\", \"4 boned chicken breasts\", \"1 can cream of mushroom soup\", \"1 carton sour cream\"]\\n\\nGeneric ingredients: '}, {'role': 'assistant', 'content': '[\"beef\", \"chicken breasts\", \"cream of mushroom soup\", \"sour cream\"]'}]}\n",
            "{'messages': [{'role': 'system', 'content': 'You are a helpful recipe assistant. You are to extract the generic ingredients from each of the recipes provided.'}, {'role': 'user', 'content': 'Title: Creamy Corn\\n\\nIngredients: [\"2 (16 oz.) pkg. frozen corn\", \"1 (8 oz.) pkg. cream cheese, cubed\", \"1/3 c. butter, cubed\", \"1/2 tsp. garlic powder\", \"1/2 tsp. salt\", \"1/4 tsp. pepper\"]\\n\\nGeneric ingredients: '}, {'role': 'assistant', 'content': '[\"frozen corn\", \"cream cheese\", \"butter\", \"garlic powder\", \"salt\", \"pepper\"]'}]}\n",
            "{'messages': [{'role': 'system', 'content': 'You are a helpful recipe assistant. You are to extract the generic ingredients from each of the recipes provided.'}, {'role': 'user', 'content': 'Title: Chicken Funny\\n\\nIngredients: [\"1 large whole chicken\", \"2 (10 1/2 oz.) cans chicken gravy\", \"1 (10 1/2 oz.) can cream of mushroom soup\", \"1 (6 oz.) box Stove Top stuffing\", \"4 oz. shredded cheese\"]\\n\\nGeneric ingredients: '}, {'role': 'assistant', 'content': '[\"chicken\", \"chicken gravy\", \"cream of mushroom soup\", \"shredded cheese\"]'}]}\n",
            "{'messages': [{'role': 'system', 'content': 'You are a helpful recipe assistant. You are to extract the generic ingredients from each of the recipes provided.'}, {'role': 'user', 'content': 'Title: Reeses Cups(Candy)  \\n\\nIngredients: [\"1 c. peanut butter\", \"3/4 c. graham cracker crumbs\", \"1 c. melted butter\", \"1 lb. (3 1/2 c.) powdered sugar\", \"1 large pkg. chocolate chips\"]\\n\\nGeneric ingredients: '}, {'role': 'assistant', 'content': '[\"peanut butter\", \"graham cracker crumbs\", \"butter\", \"powdered sugar\", \"chocolate chips\"]'}]}\n"
          ]
        }
      ],
      "source": [
        "training_df = recipe_df.loc[0:80]\n",
        "\n",
        "training_data = training_df.apply(prepare_example_conversation, axis=1).tolist()\n",
        "\n",
        "for example in training_data[:5]:\n",
        "    print(example)"
      ]
    },
    {
      "cell_type": "markdown",
      "metadata": {
        "id": "UVHo-ufwW3t1"
      },
      "source": [
        "검증 데이터를 생성한다. 20개"
      ]
    },
    {
      "cell_type": "code",
      "execution_count": 10,
      "metadata": {
        "id": "Gc3jgF7lW3t1"
      },
      "outputs": [],
      "source": [
        "validation_df = recipe_df.loc[81:90]\n",
        "validation_data = validation_df.apply(prepare_example_conversation, axis=1).tolist()"
      ]
    },
    {
      "cell_type": "markdown",
      "metadata": {
        "id": "nDI0KZhbW3t1"
      },
      "source": [
        "# 데이터 파일로 쓰기\n",
        "\n",
        "실제 학습은 OpenAI에 업로드 하여 이루어 진다. 업로드하도록 파일로 저장한다."
      ]
    },
    {
      "cell_type": "code",
      "execution_count": 12,
      "metadata": {
        "id": "T8JpmYtbW3t1"
      },
      "outputs": [],
      "source": [
        "def write_jsonl(data_list: list, filename: str) -> None:\n",
        "    with open(filename, \"w\") as out:\n",
        "        for ddict in data_list:\n",
        "            jout = json.dumps(ddict) + \"\\n\"\n",
        "            out.write(jout)\n",
        "\n",
        "training_file_name = \"recipe_finetune_training.jsonl\"\n",
        "write_jsonl(training_data, training_file_name)\n",
        "\n",
        "validation_file_name = \"recipe_finetune_validation.jsonl\"\n",
        "write_jsonl(validation_data, validation_file_name)"
      ]
    },
    {
      "cell_type": "markdown",
      "metadata": {
        "id": "MFqFU3g9W3t1"
      },
      "source": [
        "# 파일 업로드"
      ]
    },
    {
      "cell_type": "code",
      "execution_count": 14,
      "metadata": {
        "colab": {
          "base_uri": "https://localhost:8080/"
        },
        "id": "SVV2AjgdW3t1",
        "outputId": "ffd21543-7e7e-491a-f1e6-7cb61cc42974"
      },
      "outputs": [
        {
          "output_type": "stream",
          "name": "stdout",
          "text": [
            "Training file ID: file-eAdCpJLotTDQuJiN3E2F7LRp\n",
            "Validation file ID: file-6es00d3YhuA6LcdEulUi98Xm\n"
          ]
        }
      ],
      "source": [
        "training_response = openai.File.create(\n",
        "    file=open(training_file_name, \"rb\"), purpose=\"fine-tune\"\n",
        ")\n",
        "training_file_id = training_response[\"id\"]\n",
        "\n",
        "validation_response = openai.File.create(\n",
        "    file=open(validation_file_name, \"rb\"), purpose=\"fine-tune\"\n",
        ")\n",
        "validation_file_id = validation_response[\"id\"]\n",
        "\n",
        "print(\"Training file ID:\", training_file_id)\n",
        "print(\"Validation file ID:\", validation_file_id)"
      ]
    },
    {
      "cell_type": "markdown",
      "metadata": {
        "id": "E3xT07hnW3t1"
      },
      "source": [
        "# 학습\n",
        "\n",
        "기존 학습된 모델에 추가 학습하는 것을 fine tuning이라 한다."
      ]
    },
    {
      "cell_type": "code",
      "execution_count": 15,
      "metadata": {
        "colab": {
          "base_uri": "https://localhost:8080/"
        },
        "id": "C6USAguYW3t1",
        "outputId": "9918f693-5224-4c9f-efc1-3d9118ec40eb"
      },
      "outputs": [
        {
          "output_type": "stream",
          "name": "stdout",
          "text": [
            "Job ID: ftjob-ROcGxCBufJJdp5iGnYGIbW6I\n",
            "Status: validating_files\n"
          ]
        }
      ],
      "source": [
        "response = openai.FineTuningJob.create(\n",
        "    training_file=training_file_id,\n",
        "    validation_file=validation_file_id,\n",
        "    model=\"gpt-3.5-turbo\",\n",
        "    suffix=\"recipe-ner\",\n",
        ")\n",
        "\n",
        "job_id = response[\"id\"]\n",
        "\n",
        "print(\"Job ID:\", response[\"id\"])\n",
        "print(\"Status:\", response[\"status\"])"
      ]
    },
    {
      "cell_type": "markdown",
      "metadata": {
        "id": "cK-xRpAIW3t1"
      },
      "source": [
        "# 학습 상태 조회"
      ]
    },
    {
      "cell_type": "code",
      "execution_count": 21,
      "metadata": {
        "colab": {
          "base_uri": "https://localhost:8080/"
        },
        "id": "RwNIfX9-W3t1",
        "outputId": "69003996-961c-47ef-970f-64370852c3a3"
      },
      "outputs": [
        {
          "output_type": "stream",
          "name": "stdout",
          "text": [
            "Job ID: ftjob-ROcGxCBufJJdp5iGnYGIbW6I\n",
            "Status: running\n",
            "Trained Tokens: None\n"
          ]
        }
      ],
      "source": [
        "response = openai.FineTuningJob.retrieve(job_id)\n",
        "\n",
        "print(\"Job ID:\", response[\"id\"])\n",
        "print(\"Status:\", response[\"status\"])\n",
        "print(\"Trained Tokens:\", response[\"trained_tokens\"])\n"
      ]
    },
    {
      "cell_type": "code",
      "source": [
        "response = openai.FineTuningJob.retrieve(job_id)\n",
        "\n",
        "print(\"Job ID:\", response[\"id\"])\n",
        "print(\"Status:\", response[\"status\"])\n",
        "print(\"Trained Tokens:\", response[\"trained_tokens\"])\n"
      ],
      "metadata": {
        "colab": {
          "base_uri": "https://localhost:8080/"
        },
        "id": "T4vU6zADZ3Dv",
        "outputId": "5aba9331-d618-4321-c860-29177f8c28c8"
      },
      "execution_count": 24,
      "outputs": [
        {
          "output_type": "stream",
          "name": "stdout",
          "text": [
            "Job ID: ftjob-ROcGxCBufJJdp5iGnYGIbW6I\n",
            "Status: succeeded\n",
            "Trained Tokens: 31812\n"
          ]
        }
      ]
    },
    {
      "cell_type": "markdown",
      "metadata": {
        "id": "VffWHlIWW3t2"
      },
      "source": [
        "# 학습 진행 내역 조회"
      ]
    },
    {
      "cell_type": "code",
      "execution_count": 25,
      "metadata": {
        "colab": {
          "base_uri": "https://localhost:8080/"
        },
        "id": "7vGlWsMsW3t2",
        "outputId": "da04cef6-14ab-483d-b624-d4fe6265e673"
      },
      "outputs": [
        {
          "output_type": "stream",
          "name": "stdout",
          "text": [
            "Step 198/243: training loss=0.00\n",
            "Step 199/243: training loss=0.00\n",
            "Step 200/243: training loss=0.54, validation loss=1.07\n",
            "Step 201/243: training loss=0.00\n",
            "Step 202/243: training loss=0.00\n",
            "Step 203/243: training loss=0.00\n",
            "Step 204/243: training loss=0.00\n",
            "Step 205/243: training loss=0.42\n",
            "Step 206/243: training loss=0.00\n",
            "Step 207/243: training loss=0.09\n",
            "Step 208/243: training loss=0.00\n",
            "Step 209/243: training loss=0.00\n",
            "Step 210/243: training loss=0.00, validation loss=0.52\n",
            "Step 211/243: training loss=0.00\n",
            "Step 212/243: training loss=0.00\n",
            "Step 213/243: training loss=0.00\n",
            "Step 214/243: training loss=0.00\n",
            "Step 215/243: training loss=0.00\n",
            "Step 216/243: training loss=0.00\n",
            "Step 217/243: training loss=0.00\n",
            "Step 218/243: training loss=0.00\n",
            "Step 219/243: training loss=0.00\n",
            "Step 220/243: training loss=0.00, validation loss=0.00\n",
            "Step 221/243: training loss=0.00\n",
            "Step 222/243: training loss=0.00\n",
            "Step 223/243: training loss=0.00\n",
            "Step 224/243: training loss=0.07\n",
            "Step 225/243: training loss=0.00\n",
            "Step 226/243: training loss=0.00\n",
            "Step 227/243: training loss=0.00\n",
            "Step 228/243: training loss=0.04\n",
            "Step 229/243: training loss=0.00\n",
            "Step 230/243: training loss=0.00, validation loss=0.15\n",
            "Step 231/243: training loss=0.00\n",
            "Step 232/243: training loss=0.00\n",
            "Step 233/243: training loss=0.00\n",
            "Step 234/243: training loss=0.00\n",
            "Step 235/243: training loss=0.00\n",
            "Step 236/243: training loss=0.06\n",
            "Step 237/243: training loss=0.25\n",
            "Step 238/243: training loss=0.00\n",
            "Step 239/243: training loss=0.52\n",
            "Step 240/243: training loss=0.13, validation loss=0.00\n",
            "Step 241/243: training loss=0.26\n",
            "Step 242/243: training loss=0.00\n",
            "Step 243/243: training loss=1.63, full validation loss=0.21\n",
            "Checkpoint created at step 81 with Snapshot ID: ft:gpt-3.5-turbo-0125:rowan:recipe-ner:9kgRyjUA:ckpt-step-81\n",
            "Checkpoint created at step 162 with Snapshot ID: ft:gpt-3.5-turbo-0125:rowan:recipe-ner:9kgRyFN7:ckpt-step-162\n",
            "New fine-tuned model created: ft:gpt-3.5-turbo-0125:rowan:recipe-ner:9kgRzukw\n",
            "The job has successfully completed\n"
          ]
        }
      ],
      "source": [
        "response = openai.FineTuningJob.list_events(id=job_id, limit=50)\n",
        "\n",
        "events = response[\"data\"]\n",
        "events.reverse()\n",
        "\n",
        "for event in events:\n",
        "    print(event[\"message\"])"
      ]
    },
    {
      "cell_type": "markdown",
      "metadata": {
        "id": "O1VX_5Z1W3t2"
      },
      "source": [
        "# 학습된 모델 ID 받기"
      ]
    },
    {
      "cell_type": "code",
      "execution_count": 26,
      "metadata": {
        "colab": {
          "base_uri": "https://localhost:8080/"
        },
        "id": "va9oaoimW3t2",
        "outputId": "f5d0f932-4f5a-4fc1-fefc-58957a11baf7"
      },
      "outputs": [
        {
          "output_type": "stream",
          "name": "stdout",
          "text": [
            "Fine-tuned model ID: ft:gpt-3.5-turbo-0125:rowan:recipe-ner:9kgRzukw\n"
          ]
        }
      ],
      "source": [
        "response = openai.FineTuningJob.retrieve(job_id)\n",
        "fine_tuned_model_id = response[\"fine_tuned_model\"]\n",
        "\n",
        "print(\"Fine-tuned model ID:\", fine_tuned_model_id)"
      ]
    },
    {
      "cell_type": "markdown",
      "metadata": {
        "id": "pVxjI5z6W3t2"
      },
      "source": [
        "# 테스트 데이터 만들기"
      ]
    },
    {
      "cell_type": "code",
      "execution_count": 28,
      "metadata": {
        "colab": {
          "base_uri": "https://localhost:8080/"
        },
        "id": "KlmGdfcHW3t2",
        "outputId": "d90b8131-7a9e-42ec-b9dc-e823cca60307"
      },
      "outputs": [
        {
          "output_type": "stream",
          "name": "stdout",
          "text": [
            "[{'content': 'You are a helpful recipe assistant. You are to extract the '\n",
            "             'generic ingredients from each of the recipes provided.',\n",
            "  'role': 'system'},\n",
            " {'content': 'Title: Pound Cake\\n'\n",
            "             '\\n'\n",
            "             'Ingredients: [\"3 c. plain flour (cake flour may be substituted '\n",
            "             'for plain flour)\", \"3 c. sugar\", \"1/2 tsp. baking powder\", \"3 '\n",
            "             'dashes of salt\", \"5 eggs\", \"2 sticks margarine\", \"1/2 c. butter '\n",
            "             'flavor Crisco\", \"1 c. sweet milk\", \"1 to 2 Tbsp. flavoring '\n",
            "             '(lemon, vanilla or almond or a combination of the 3)\"]\\n'\n",
            "             '\\n'\n",
            "             'Generic ingredients: ',\n",
            "  'role': 'user'}]\n"
          ]
        }
      ],
      "source": [
        "test_df = recipe_df.loc[91:100]\n",
        "test_row = test_df.iloc[0]\n",
        "test_messages = []\n",
        "test_messages.append({\"role\": \"system\", \"content\": system_message})\n",
        "test_messages.append({\"role\": \"user\", \"content\": create_user_message(test_row)})\n",
        "\n",
        "pprint(test_messages)"
      ]
    },
    {
      "cell_type": "markdown",
      "metadata": {
        "id": "fBgUDZ9OW3t2"
      },
      "source": [
        "# 호출\n",
        "\n",
        "gpt-3.5-turboo와 같은 기존 모델이 아닌, 새로 학습한 모델(fine_tuned_model_id)을 주어 호출한다."
      ]
    },
    {
      "cell_type": "code",
      "execution_count": 29,
      "metadata": {
        "colab": {
          "base_uri": "https://localhost:8080/"
        },
        "id": "XRaE4VfWW3t2",
        "outputId": "18abd370-15df-471d-e8d8-9f2d43a67521"
      },
      "outputs": [
        {
          "output_type": "stream",
          "name": "stdout",
          "text": [
            "[\"flour\", \"sugar\", \"baking powder\", \"salt\", \"eggs\", \"margarine\", \"butter\", \"sweet milk\", \"flavoring\"]\n"
          ]
        }
      ],
      "source": [
        "response = openai.ChatCompletion.create(\n",
        "    model=fine_tuned_model_id, messages=test_messages, temperature=0, max_tokens=500\n",
        ")\n",
        "print(response[\"choices\"][0][\"message\"][\"content\"])"
      ]
    }
  ],
  "metadata": {
    "kernelspec": {
      "display_name": "airecom",
      "language": "python",
      "name": "python3"
    },
    "language_info": {
      "codemirror_mode": {
        "name": "ipython",
        "version": 3
      },
      "file_extension": ".py",
      "mimetype": "text/x-python",
      "name": "python",
      "nbconvert_exporter": "python",
      "pygments_lexer": "ipython3",
      "version": "3.10.8"
    },
    "orig_nbformat": 4,
    "colab": {
      "provenance": []
    }
  },
  "nbformat": 4,
  "nbformat_minor": 0
}
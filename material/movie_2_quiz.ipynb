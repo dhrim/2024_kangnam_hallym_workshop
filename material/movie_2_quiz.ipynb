{
  "cells": [
    {
      "cell_type": "code",
      "execution_count": 1,
      "metadata": {
        "colab": {
          "base_uri": "https://localhost:8080/"
        },
        "id": "hPFyyZ8mGsPr",
        "outputId": "fcd9966a-025b-408f-8f0d-e467a462175b"
      },
      "outputs": [
        {
          "name": "stdout",
          "output_type": "stream",
          "text": [
            "Collecting openai\n",
            "  Downloading openai-1.35.13-py3-none-any.whl (328 kB)\n",
            "\u001b[2K     \u001b[90m━━━━━━━━━━━━━━━━━━━━━━━━━━━━━━━━━━━━━━━━\u001b[0m \u001b[32m328.5/328.5 kB\u001b[0m \u001b[31m3.7 MB/s\u001b[0m eta \u001b[36m0:00:00\u001b[0m\n",
            "\u001b[?25hRequirement already satisfied: anyio<5,>=3.5.0 in /usr/local/lib/python3.10/dist-packages (from openai) (3.7.1)\n",
            "Requirement already satisfied: distro<2,>=1.7.0 in /usr/lib/python3/dist-packages (from openai) (1.7.0)\n",
            "Collecting httpx<1,>=0.23.0 (from openai)\n",
            "  Downloading httpx-0.27.0-py3-none-any.whl (75 kB)\n",
            "\u001b[2K     \u001b[90m━━━━━━━━━━━━━━━━━━━━━━━━━━━━━━━━━━━━━━━━\u001b[0m \u001b[32m75.6/75.6 kB\u001b[0m \u001b[31m4.6 MB/s\u001b[0m eta \u001b[36m0:00:00\u001b[0m\n",
            "\u001b[?25hRequirement already satisfied: pydantic<3,>=1.9.0 in /usr/local/lib/python3.10/dist-packages (from openai) (2.8.0)\n",
            "Requirement already satisfied: sniffio in /usr/local/lib/python3.10/dist-packages (from openai) (1.3.1)\n",
            "Requirement already satisfied: tqdm>4 in /usr/local/lib/python3.10/dist-packages (from openai) (4.66.4)\n",
            "Requirement already satisfied: typing-extensions<5,>=4.7 in /usr/local/lib/python3.10/dist-packages (from openai) (4.12.2)\n",
            "Requirement already satisfied: idna>=2.8 in /usr/local/lib/python3.10/dist-packages (from anyio<5,>=3.5.0->openai) (3.7)\n",
            "Requirement already satisfied: exceptiongroup in /usr/local/lib/python3.10/dist-packages (from anyio<5,>=3.5.0->openai) (1.2.1)\n",
            "Requirement already satisfied: certifi in /usr/local/lib/python3.10/dist-packages (from httpx<1,>=0.23.0->openai) (2024.6.2)\n",
            "Collecting httpcore==1.* (from httpx<1,>=0.23.0->openai)\n",
            "  Downloading httpcore-1.0.5-py3-none-any.whl (77 kB)\n",
            "\u001b[2K     \u001b[90m━━━━━━━━━━━━━━━━━━━━━━━━━━━━━━━━━━━━━━━━\u001b[0m \u001b[32m77.9/77.9 kB\u001b[0m \u001b[31m3.6 MB/s\u001b[0m eta \u001b[36m0:00:00\u001b[0m\n",
            "\u001b[?25hCollecting h11<0.15,>=0.13 (from httpcore==1.*->httpx<1,>=0.23.0->openai)\n",
            "  Downloading h11-0.14.0-py3-none-any.whl (58 kB)\n",
            "\u001b[2K     \u001b[90m━━━━━━━━━━━━━━━━━━━━━━━━━━━━━━━━━━━━━━━━\u001b[0m \u001b[32m58.3/58.3 kB\u001b[0m \u001b[31m3.4 MB/s\u001b[0m eta \u001b[36m0:00:00\u001b[0m\n",
            "\u001b[?25hRequirement already satisfied: annotated-types>=0.4.0 in /usr/local/lib/python3.10/dist-packages (from pydantic<3,>=1.9.0->openai) (0.7.0)\n",
            "Requirement already satisfied: pydantic-core==2.20.0 in /usr/local/lib/python3.10/dist-packages (from pydantic<3,>=1.9.0->openai) (2.20.0)\n",
            "Installing collected packages: h11, httpcore, httpx, openai\n",
            "Successfully installed h11-0.14.0 httpcore-1.0.5 httpx-0.27.0 openai-1.35.13\n",
            "Collecting openai-whisper\n",
            "  Downloading openai-whisper-20231117.tar.gz (798 kB)\n",
            "\u001b[2K     \u001b[90m━━━━━━━━━━━━━━━━━━━━━━━━━━━━━━━━━━━━━━━━\u001b[0m \u001b[32m798.6/798.6 kB\u001b[0m \u001b[31m9.8 MB/s\u001b[0m eta \u001b[36m0:00:00\u001b[0m\n",
            "\u001b[?25h  Installing build dependencies ... \u001b[?25l\u001b[?25hdone\n",
            "  Getting requirements to build wheel ... \u001b[?25l\u001b[?25hdone\n",
            "  Preparing metadata (pyproject.toml) ... \u001b[?25l\u001b[?25hdone\n",
            "Requirement already satisfied: triton<3,>=2.0.0 in /usr/local/lib/python3.10/dist-packages (from openai-whisper) (2.3.0)\n",
            "Requirement already satisfied: numba in /usr/local/lib/python3.10/dist-packages (from openai-whisper) (0.58.1)\n",
            "Requirement already satisfied: numpy in /usr/local/lib/python3.10/dist-packages (from openai-whisper) (1.25.2)\n",
            "Requirement already satisfied: torch in /usr/local/lib/python3.10/dist-packages (from openai-whisper) (2.3.0+cu121)\n",
            "Requirement already satisfied: tqdm in /usr/local/lib/python3.10/dist-packages (from openai-whisper) (4.66.4)\n",
            "Requirement already satisfied: more-itertools in /usr/local/lib/python3.10/dist-packages (from openai-whisper) (10.1.0)\n",
            "Collecting tiktoken (from openai-whisper)\n",
            "  Downloading tiktoken-0.7.0-cp310-cp310-manylinux_2_17_x86_64.manylinux2014_x86_64.whl (1.1 MB)\n",
            "\u001b[2K     \u001b[90m━━━━━━━━━━━━━━━━━━━━━━━━━━━━━━━━━━━━━━━━\u001b[0m \u001b[32m1.1/1.1 MB\u001b[0m \u001b[31m45.3 MB/s\u001b[0m eta \u001b[36m0:00:00\u001b[0m\n",
            "\u001b[?25hRequirement already satisfied: filelock in /usr/local/lib/python3.10/dist-packages (from triton<3,>=2.0.0->openai-whisper) (3.15.4)\n",
            "Requirement already satisfied: llvmlite<0.42,>=0.41.0dev0 in /usr/local/lib/python3.10/dist-packages (from numba->openai-whisper) (0.41.1)\n",
            "Requirement already satisfied: regex>=2022.1.18 in /usr/local/lib/python3.10/dist-packages (from tiktoken->openai-whisper) (2024.5.15)\n",
            "Requirement already satisfied: requests>=2.26.0 in /usr/local/lib/python3.10/dist-packages (from tiktoken->openai-whisper) (2.31.0)\n",
            "Requirement already satisfied: typing-extensions>=4.8.0 in /usr/local/lib/python3.10/dist-packages (from torch->openai-whisper) (4.12.2)\n",
            "Requirement already satisfied: sympy in /usr/local/lib/python3.10/dist-packages (from torch->openai-whisper) (1.12.1)\n",
            "Requirement already satisfied: networkx in /usr/local/lib/python3.10/dist-packages (from torch->openai-whisper) (3.3)\n",
            "Requirement already satisfied: jinja2 in /usr/local/lib/python3.10/dist-packages (from torch->openai-whisper) (3.1.4)\n",
            "Requirement already satisfied: fsspec in /usr/local/lib/python3.10/dist-packages (from torch->openai-whisper) (2023.6.0)\n",
            "Collecting nvidia-cuda-nvrtc-cu12==12.1.105 (from torch->openai-whisper)\n",
            "  Using cached nvidia_cuda_nvrtc_cu12-12.1.105-py3-none-manylinux1_x86_64.whl (23.7 MB)\n",
            "Collecting nvidia-cuda-runtime-cu12==12.1.105 (from torch->openai-whisper)\n",
            "  Using cached nvidia_cuda_runtime_cu12-12.1.105-py3-none-manylinux1_x86_64.whl (823 kB)\n",
            "Collecting nvidia-cuda-cupti-cu12==12.1.105 (from torch->openai-whisper)\n",
            "  Using cached nvidia_cuda_cupti_cu12-12.1.105-py3-none-manylinux1_x86_64.whl (14.1 MB)\n",
            "Collecting nvidia-cudnn-cu12==8.9.2.26 (from torch->openai-whisper)\n",
            "  Using cached nvidia_cudnn_cu12-8.9.2.26-py3-none-manylinux1_x86_64.whl (731.7 MB)\n",
            "Collecting nvidia-cublas-cu12==12.1.3.1 (from torch->openai-whisper)\n",
            "  Using cached nvidia_cublas_cu12-12.1.3.1-py3-none-manylinux1_x86_64.whl (410.6 MB)\n",
            "Collecting nvidia-cufft-cu12==11.0.2.54 (from torch->openai-whisper)\n",
            "  Using cached nvidia_cufft_cu12-11.0.2.54-py3-none-manylinux1_x86_64.whl (121.6 MB)\n",
            "Collecting nvidia-curand-cu12==10.3.2.106 (from torch->openai-whisper)\n",
            "  Using cached nvidia_curand_cu12-10.3.2.106-py3-none-manylinux1_x86_64.whl (56.5 MB)\n",
            "Collecting nvidia-cusolver-cu12==11.4.5.107 (from torch->openai-whisper)\n",
            "  Using cached nvidia_cusolver_cu12-11.4.5.107-py3-none-manylinux1_x86_64.whl (124.2 MB)\n",
            "Collecting nvidia-cusparse-cu12==12.1.0.106 (from torch->openai-whisper)\n",
            "  Using cached nvidia_cusparse_cu12-12.1.0.106-py3-none-manylinux1_x86_64.whl (196.0 MB)\n",
            "Collecting nvidia-nccl-cu12==2.20.5 (from torch->openai-whisper)\n",
            "  Using cached nvidia_nccl_cu12-2.20.5-py3-none-manylinux2014_x86_64.whl (176.2 MB)\n",
            "Collecting nvidia-nvtx-cu12==12.1.105 (from torch->openai-whisper)\n",
            "  Using cached nvidia_nvtx_cu12-12.1.105-py3-none-manylinux1_x86_64.whl (99 kB)\n",
            "Collecting nvidia-nvjitlink-cu12 (from nvidia-cusolver-cu12==11.4.5.107->torch->openai-whisper)\n",
            "  Downloading nvidia_nvjitlink_cu12-12.5.82-py3-none-manylinux2014_x86_64.whl (21.3 MB)\n",
            "\u001b[2K     \u001b[90m━━━━━━━━━━━━━━━━━━━━━━━━━━━━━━━━━━━━━━━━\u001b[0m \u001b[32m21.3/21.3 MB\u001b[0m \u001b[31m33.1 MB/s\u001b[0m eta \u001b[36m0:00:00\u001b[0m\n",
            "\u001b[?25hRequirement already satisfied: charset-normalizer<4,>=2 in /usr/local/lib/python3.10/dist-packages (from requests>=2.26.0->tiktoken->openai-whisper) (3.3.2)\n",
            "Requirement already satisfied: idna<4,>=2.5 in /usr/local/lib/python3.10/dist-packages (from requests>=2.26.0->tiktoken->openai-whisper) (3.7)\n",
            "Requirement already satisfied: urllib3<3,>=1.21.1 in /usr/local/lib/python3.10/dist-packages (from requests>=2.26.0->tiktoken->openai-whisper) (2.0.7)\n",
            "Requirement already satisfied: certifi>=2017.4.17 in /usr/local/lib/python3.10/dist-packages (from requests>=2.26.0->tiktoken->openai-whisper) (2024.6.2)\n",
            "Requirement already satisfied: MarkupSafe>=2.0 in /usr/local/lib/python3.10/dist-packages (from jinja2->torch->openai-whisper) (2.1.5)\n",
            "Requirement already satisfied: mpmath<1.4.0,>=1.1.0 in /usr/local/lib/python3.10/dist-packages (from sympy->torch->openai-whisper) (1.3.0)\n",
            "Building wheels for collected packages: openai-whisper\n",
            "  Building wheel for openai-whisper (pyproject.toml) ... \u001b[?25l\u001b[?25hdone\n",
            "  Created wheel for openai-whisper: filename=openai_whisper-20231117-py3-none-any.whl size=801358 sha256=df3b4577f48541e8dffba77cae59a0db2ab60bc7f7298e58f2f220985880c1d9\n",
            "  Stored in directory: /root/.cache/pip/wheels/d0/85/e1/9361b4cbea7dd4b7f6702fa4c3afc94877952eeb2b62f45f56\n",
            "Successfully built openai-whisper\n",
            "Installing collected packages: nvidia-nvtx-cu12, nvidia-nvjitlink-cu12, nvidia-nccl-cu12, nvidia-curand-cu12, nvidia-cufft-cu12, nvidia-cuda-runtime-cu12, nvidia-cuda-nvrtc-cu12, nvidia-cuda-cupti-cu12, nvidia-cublas-cu12, tiktoken, nvidia-cusparse-cu12, nvidia-cudnn-cu12, nvidia-cusolver-cu12, openai-whisper\n",
            "Successfully installed nvidia-cublas-cu12-12.1.3.1 nvidia-cuda-cupti-cu12-12.1.105 nvidia-cuda-nvrtc-cu12-12.1.105 nvidia-cuda-runtime-cu12-12.1.105 nvidia-cudnn-cu12-8.9.2.26 nvidia-cufft-cu12-11.0.2.54 nvidia-curand-cu12-10.3.2.106 nvidia-cusolver-cu12-11.4.5.107 nvidia-cusparse-cu12-12.1.0.106 nvidia-nccl-cu12-2.20.5 nvidia-nvjitlink-cu12-12.5.82 nvidia-nvtx-cu12-12.1.105 openai-whisper-20231117 tiktoken-0.7.0\n",
            "Get:1 https://cloud.r-project.org/bin/linux/ubuntu jammy-cran40/ InRelease [3,626 B]\n",
            "Get:2 https://developer.download.nvidia.com/compute/cuda/repos/ubuntu2204/x86_64  InRelease [1,581 B]\n",
            "Get:3 http://security.ubuntu.com/ubuntu jammy-security InRelease [129 kB]\n",
            "Hit:4 http://archive.ubuntu.com/ubuntu jammy InRelease\n",
            "Get:5 http://archive.ubuntu.com/ubuntu jammy-updates InRelease [128 kB]\n",
            "Get:6 https://developer.download.nvidia.com/compute/cuda/repos/ubuntu2204/x86_64  Packages [858 kB]\n",
            "Hit:7 https://ppa.launchpadcontent.net/c2d4u.team/c2d4u4.0+/ubuntu jammy InRelease\n",
            "Hit:8 https://ppa.launchpadcontent.net/deadsnakes/ppa/ubuntu jammy InRelease\n",
            "Hit:9 https://ppa.launchpadcontent.net/graphics-drivers/ppa/ubuntu jammy InRelease\n",
            "Hit:10 https://ppa.launchpadcontent.net/ubuntugis/ppa/ubuntu jammy InRelease\n",
            "Hit:11 http://archive.ubuntu.com/ubuntu jammy-backports InRelease\n",
            "Get:12 http://security.ubuntu.com/ubuntu jammy-security/universe amd64 Packages [1,127 kB]\n",
            "Get:13 http://archive.ubuntu.com/ubuntu jammy-updates/universe amd64 Packages [1,410 kB]\n",
            "Get:14 http://security.ubuntu.com/ubuntu jammy-security/main amd64 Packages [1,996 kB]\n",
            "Get:15 http://security.ubuntu.com/ubuntu jammy-security/restricted amd64 Packages [2,596 kB]\n",
            "Get:16 http://archive.ubuntu.com/ubuntu jammy-updates/restricted amd64 Packages [2,674 kB]\n",
            "Get:17 http://archive.ubuntu.com/ubuntu jammy-updates/main amd64 Packages [2,263 kB]\n",
            "Fetched 13.2 MB in 2s (5,651 kB/s)\n",
            "Reading package lists... Done\n",
            "Building dependency tree... Done\n",
            "Reading state information... Done\n",
            "52 packages can be upgraded. Run 'apt list --upgradable' to see them.\n",
            "Reading package lists... Done\n",
            "Building dependency tree... Done\n",
            "Reading state information... Done\n",
            "ffmpeg is already the newest version (7:4.4.2-0ubuntu0.22.04.1).\n",
            "0 upgraded, 0 newly installed, 0 to remove and 52 not upgraded.\n"
          ]
        }
      ],
      "source": [
        "!pip install openai\n",
        "!pip install -U openai-whisper\n",
        "\n",
        "!sudo apt update\n",
        "!sudo apt install ffmpeg"
      ]
    },
    {
      "cell_type": "code",
      "execution_count": 3,
      "metadata": {
        "id": "swKHqJhUGzXX"
      },
      "outputs": [],
      "source": [
        "!export OPENAI_API_KEY=sk-proj-c04cja7PcpaaZD3BE2y5T3BlbkFJX6k8TH5FoqSYbm3MgTWF"
      ]
    },
    {
      "cell_type": "code",
      "execution_count": 4,
      "metadata": {
        "colab": {
          "base_uri": "https://localhost:8080/"
        },
        "id": "xbNqsDQBHU4y",
        "outputId": "a12e4299-5bf0-414e-82f4-8a9ebdc2ce43"
      },
      "outputs": [
        {
          "name": "stdout",
          "output_type": "stream",
          "text": [
            "--2024-07-11 09:28:28--  https://raw.githubusercontent.com/dhrim/2024_kangnam_hallym_workshop/main/material/data/sample1.mp4\n",
            "Resolving raw.githubusercontent.com (raw.githubusercontent.com)... 185.199.108.133, 185.199.109.133, 185.199.110.133, ...\n",
            "Connecting to raw.githubusercontent.com (raw.githubusercontent.com)|185.199.108.133|:443... connected.\n",
            "HTTP request sent, awaiting response... 200 OK\n",
            "Length: 6650075 (6.3M) [application/octet-stream]\n",
            "Saving to: ‘sample1.mp4’\n",
            "\n",
            "sample1.mp4         100%[===================>]   6.34M  --.-KB/s    in 0.09s   \n",
            "\n",
            "2024-07-11 09:28:28 (71.3 MB/s) - ‘sample1.mp4’ saved [6650075/6650075]\n",
            "\n"
          ]
        }
      ],
      "source": [
        "!wget https://raw.githubusercontent.com/dhrim/2024_kangnam_hallym_workshop/main/material/data/sample1.mp4 -O sample1.mp4"
      ]
    },
    {
      "cell_type": "code",
      "execution_count": 5,
      "metadata": {
        "colab": {
          "base_uri": "https://localhost:8080/"
        },
        "id": "qg69mVblHQTp",
        "outputId": "16c85453-a351-4ca0-964c-7f50d15e40f9"
      },
      "outputs": [
        {
          "name": "stdout",
          "output_type": "stream",
          "text": [
            "100%|███████████████████████████████████████| 461M/461M [00:06<00:00, 72.1MiB/s]\n",
            "/usr/local/lib/python3.10/dist-packages/whisper/transcribe.py:115: UserWarning: FP16 is not supported on CPU; using FP32 instead\n",
            "  warnings.warn(\"FP16 is not supported on CPU; using FP32 instead\")\n",
            "[00:00.000 --> 00:04.320]  우리 점노세 노세 어르신들은 근력이 약한 경우가 많기 때문에\n",
            "[00:04.320 --> 00:06.800]  근력 운동을 반드시 많이 하셔야 됩니다.\n",
            "[00:06.800 --> 00:10.120]  특히 하지 근력 운동을 많이 하셔야 되고요.\n",
            "[00:10.120 --> 00:12.040]  유산소 운동을 하셔야 되고\n",
            "[00:12.040 --> 00:15.400]  낙상 방지를 위해서 균형 운동을 또한 하셔야 됩니다.\n",
            "[00:15.400 --> 00:19.320]  운동의 양으로 말씀드리면 약 일주일에 150분 이상\n",
            "[00:19.320 --> 00:22.640]  중강도 이상의 유산소 운동을 하셔야 됩니다.\n",
            "[00:22.640 --> 00:24.680]  중강도 이상의 유산소 운동은\n",
            "[00:24.680 --> 00:27.360]  약간 숨이 차다 약간 땀이 난다\n",
            "[00:27.360 --> 00:30.800]  이런 정도의 운동으로써 조금 빠르게 걷는다\n",
            "[00:30.800 --> 00:35.040]  수영 이런 것이 대표적인 중강도 이상의 유산소 운동입니다.\n",
            "[00:35.040 --> 00:39.960]  운동은 한번 시작하면 지속적으로 10분 이상은 해야지 효과가 있지\n",
            "[00:39.960 --> 00:41.760]  한 1분 계단을 올랐다\n",
            "[00:41.760 --> 00:44.880]  그렇게 해서 운동 효과가 크지는 않다고 하겠습니다.\n",
            "[00:44.880 --> 00:48.560]  저희는 어르신들의 개별적인 신체 능력을 평가해서\n",
            "[00:48.560 --> 00:52.240]  그에 맞는 맞추며 운동 처방을 해드릴 것입니다.\n"
          ]
        }
      ],
      "source": [
        "!whisper sample1.mp4 --output_format=txt --language=Korean"
      ]
    },
    {
      "cell_type": "code",
      "execution_count": 13,
      "metadata": {
        "id": "mb7hH88wJxG2"
      },
      "outputs": [],
      "source": [
        "from openai import OpenAI\n",
        "\n",
        "client = OpenAI(api_key=\"\")"
      ]
    },
    {
      "cell_type": "markdown",
      "metadata": {
        "id": "WkmPLgvhOF3i"
      },
      "source": [
        "# 음성에서 텍스트 추출"
      ]
    },
    {
      "cell_type": "code",
      "execution_count": 22,
      "metadata": {
        "id": "WUKgtNSLJuE-"
      },
      "outputs": [],
      "source": [
        "import json\n",
        "import sys\n",
        "\n",
        "def send_openai_request(prompt_template=\"{insert your prompt here}\", file_path=None):\n",
        "    with open(file_path, 'r') as file:\n",
        "      file_content = file.read()\n",
        "\n",
        "\n",
        "    prompt = prompt_template.replace(\"TARGET_TEXT\", file_content)\n",
        "    response = client.chat.completions.create(model=\"gpt-4-turbo-2024-04-09\",\n",
        "      messages=[\n",
        "        {\"role\": \"system\", \"content\": \"You are a helpful assistant.\"},\n",
        "        {\"role\": \"user\", \"content\": prompt}\n",
        "      ]\n",
        "    )\n",
        "    response_message = response.choices[0].message.content\n",
        "    print(response_message )\n"
      ]
    },
    {
      "cell_type": "code",
      "execution_count": 28,
      "metadata": {
        "colab": {
          "base_uri": "https://localhost:8080/"
        },
        "id": "B6V7vyPWLiDt",
        "outputId": "4321a33f-7e75-4029-e69a-3787401ba36a"
      },
      "outputs": [
        {
          "name": "stdout",
          "output_type": "stream",
          "text": [
            "원본 : 우리 점노세 노세 어르신들은 근력이 약한 경우가 많기 때문에\n",
            "근력 운동을 반드시 많이 하셔야 됩니다.\n",
            "특히 하지 근력 운동을 많이 하셔야 되고요.\n",
            "유산소 운동을 하셔야 되고\n",
            "낙상 방지를 위해서 균형 운동을 또한 하셔야 됩니다.\n",
            "운동의 양으로 말씀드리면 약 일주일에 150분 이상\n",
            "중강도 이상의 유산소 운동을 하셔야 됩니다.\n",
            "중강도 이상의 유산소 운동은\n",
            "약간 숨이 차다 약간 땀이 난다\n",
            "이런 정도의 운동으로써 조금 빠르게 걷는다\n",
            "수영 이런 것이 대표적인 중강도 이상의 유산소 운동입니다.\n",
            "운동은 한번 시작하면 지속적으로 10분 이상은 해야지 효과가 있지\n",
            "한 1분 계단을 올랐다\n",
            "그렇게 해서 운동 효과가 크지는 않다고 하겠습니다.\n",
            "저희는 어르신들의 개별적인 신체 능력을 평가해서\n",
            "그에 맞는 맞추며 운동 처방을 해드릴 것입니다.\n",
            "\n"
          ]
        }
      ],
      "source": [
        "with open(\"sample1.txt\", 'r') as file:\n",
        "  orginal_text = file.read()\n",
        "\n",
        "print(f\"원본 : {orginal_text}\")"
      ]
    },
    {
      "cell_type": "markdown",
      "metadata": {
        "id": "1vHZTi9lOL3r"
      },
      "source": [
        "# 교정"
      ]
    },
    {
      "cell_type": "code",
      "execution_count": 34,
      "metadata": {
        "colab": {
          "base_uri": "https://localhost:8080/"
        },
        "id": "lcwBMIgIKX5i",
        "outputId": "960823e9-7294-4cc6-dee8-df55b9d34f71"
      },
      "outputs": [
        {
          "name": "stdout",
          "output_type": "stream",
          "text": [
            "prompt\n",
            "\n",
            "\n",
            "우리 점노세 노세 어르신들은 근력이 약한 경우가 많기 때문에\n",
            "근력 운동을 반드시 많이 하셔야 됩니다.\n",
            "특히 하지 근력 운동을 많이 하셔야 되고요.\n",
            "유산소 운동을 하셔야 되고\n",
            "낙상 방지를 위해서 균형 운동을 또한 하셔야 됩니다.\n",
            "운동의 양으로 말씀드리면 약 일주일에 150분 이상\n",
            "중강도 이상의 유산소 운동을 하셔야 됩니다.\n",
            "중강도 이상의 유산소 운동은\n",
            "약간 숨이 차다 약간 땀이 난다\n",
            "이런 정도의 운동으로써 조금 빠르게 걷는다\n",
            "수영 이런 것이 대표적인 중강도 이상의 유산소 운동입니다.\n",
            "운동은 한번 시작하면 지속적으로 10분 이상은 해야지 효과가 있지\n",
            "한 1분 계단을 올랐다\n",
            "그렇게 해서 운동 효과가 크지는 않다고 하겠습니다.\n",
            "저희는 어르신들의 개별적인 신체 능력을 평가해서\n",
            "그에 맞는 맞추며 운동 처방을 해드릴 것입니다.\n",
            "\n",
            "\n",
            "위의 Voice To Text 결과를 상황과 내용에 맞게 일부 잘못 인식된 글자와 문자를 \n",
            "보다 화자가 실제로 말했을 것 같은 내용으로 교정해\n",
            "(원본과 같은 줄바꿈을 사용해서)\n",
            "\n"
          ]
        }
      ],
      "source": [
        "prompt = f\"\"\"\n",
        "{orginal_text}\n",
        "\n",
        "위의 Voice To Text 결과를 상황과 내용에 맞게 일부 잘못 인식된 글자와 문자를\n",
        "보다 화자가 실제로 말했을 것 같은 내용으로 교정해\n",
        "(원본과 같은 줄바꿈을 사용해서)\n",
        "\"\"\"\n",
        "\n",
        "print(f\"prompt\\n\\n{prompt}\")\n",
        "\n",
        "response = client.chat.completions.create(\n",
        "  model=\"gpt-4-turbo-2024-04-09\",\n",
        "  messages=[\n",
        "    {\"role\": \"system\", \"content\": \"You are a helpful assistant.\"},\n",
        "    {\"role\": \"user\", \"content\": prompt}\n",
        "  ],\n",
        "  temperature=0.1\n",
        ")\n",
        "\n",
        "corrected_text = response.choices[0].message.content\n"
      ]
    },
    {
      "cell_type": "code",
      "execution_count": 35,
      "metadata": {
        "colab": {
          "base_uri": "https://localhost:8080/"
        },
        "id": "-vG9a88KM1lG",
        "outputId": "baa49bcd-454b-43a2-b7a0-a506524f915b"
      },
      "outputs": [
        {
          "name": "stdout",
          "output_type": "stream",
          "text": [
            "원본\n",
            "\n",
            "우리 점노세 노세 어르신들은 근력이 약한 경우가 많기 때문에\n",
            "근력 운동을 반드시 많이 하셔야 됩니다.\n",
            "특히 하지 근력 운동을 많이 하셔야 되고요.\n",
            "유산소 운동을 하셔야 되고\n",
            "낙상 방지를 위해서 균형 운동을 또한 하셔야 됩니다.\n",
            "운동의 양으로 말씀드리면 약 일주일에 150분 이상\n",
            "중강도 이상의 유산소 운동을 하셔야 됩니다.\n",
            "중강도 이상의 유산소 운동은\n",
            "약간 숨이 차다 약간 땀이 난다\n",
            "이런 정도의 운동으로써 조금 빠르게 걷는다\n",
            "수영 이런 것이 대표적인 중강도 이상의 유산소 운동입니다.\n",
            "운동은 한번 시작하면 지속적으로 10분 이상은 해야지 효과가 있지\n",
            "한 1분 계단을 올랐다\n",
            "그렇게 해서 운동 효과가 크지는 않다고 하겠습니다.\n",
            "저희는 어르신들의 개별적인 신체 능력을 평가해서\n",
            "그에 맞는 맞추며 운동 처방을 해드릴 것입니다.\n",
            "\n",
            "\n",
            "교정본\n",
            "\n",
            "우리 어르신들은 근력이 약한 경우가 많기 때문에\n",
            "근력 운동을 반드시 많이 하셔야 합니다.\n",
            "특히 하체 근력 운동을 많이 하셔야 하고요.\n",
            "유산소 운동을 하셔야 하고\n",
            "낙상 방지를 위해서 균형 운동을 또한 하셔야 합니다.\n",
            "운동의 양으로 말씀드리면 약 일주일에 150분 이상\n",
            "중강도 이상의 유산소 운동을 하셔야 합니다.\n",
            "중강도 이상의 유산소 운동은\n",
            "약간 숨이 차고 약간 땀이 납니다\n",
            "이런 정도의 운동으로써 조금 빠르게 걷기나\n",
            "수영 이런 것이 대표적인 중강도 이상의 유산소 운동입니다.\n",
            "운동은 한번 시작하면 지속적으로 10분 이상은 해야지 효과가 있지\n",
            "한 1분 계단을 올랐다고\n",
            "그렇게 해서 운동 효과가 크지는 않다고 하겠습니다.\n",
            "저희는 어르신들의 개별적인 신체 능력을 평가해서\n",
            "그에 맞는 맞춤 운동 처방을 해드릴 것입니다.\n"
          ]
        }
      ],
      "source": [
        "\n",
        "print(f\"원본\\n\\n{orginal_text}\")\n",
        "print()\n",
        "print(f\"교정본\\n\\n{corrected_text}\")\n"
      ]
    },
    {
      "cell_type": "code",
      "execution_count": 39,
      "metadata": {
        "colab": {
          "base_uri": "https://localhost:8080/"
        },
        "id": "mAg7knZCKlRs",
        "outputId": "0da07009-44ef-47d4-fb0b-dfba7ac796f2"
      },
      "outputs": [
        {
          "name": "stdout",
          "output_type": "stream",
          "text": [
            "\u001b[91m-- Original\u001b[0m\n",
            "\u001b[94m++ Corrected\u001b[0m\n",
            "\u001b[91m우리 점노세 노세 어르신들은 근력이 약한 경우가 많기 때문에\u001b[0m\n",
            "\u001b[91m근력 운동을 반드시 많이 하셔야 됩니다.\u001b[0m\n",
            "\u001b[91m특히 하지 근력 운동을 많이 하셔야 되고요.\u001b[0m\n",
            "\u001b[91m유산소 운동을 하셔야 되고\u001b[0m\n",
            "\u001b[91m낙상 방지를 위해서 균형 운동을 또한 하셔야 됩니다.\u001b[0m\n",
            "\u001b[94m우리 어르신들은 근력이 약한 경우가 많기 때문에\u001b[0m\n",
            "\u001b[94m근력 운동을 반드시 많이 하셔야 합니다.\u001b[0m\n",
            "\u001b[94m특히 하체 근력 운동을 많이 하셔야 하고요.\u001b[0m\n",
            "\u001b[94m유산소 운동을 하셔야 하고\u001b[0m\n",
            "\u001b[94m낙상 방지를 위해서 균형 운동을 또한 하셔야 합니다.\u001b[0m\n",
            "운동의 양으로 말씀드리면 약 일주일에 150분 이상\n",
            "\u001b[91m중강도 이상의 유산소 운동을 하셔야 됩니다.\u001b[0m\n",
            "\u001b[94m중강도 이상의 유산소 운동을 하셔야 합니다.\u001b[0m\n",
            "중강도 이상의 유산소 운동은\n",
            "\u001b[91m약간 숨이 차다 약간 땀이 난다\u001b[0m\n",
            "\u001b[91m이런 정도의 운동으로써 조금 빠르게 걷는다\u001b[0m\n",
            "\u001b[94m약간 숨이 차고 약간 땀이 납니다\u001b[0m\n",
            "\u001b[94m이런 정도의 운동으로써 조금 빠르게 걷기나\u001b[0m\n",
            "수영 이런 것이 대표적인 중강도 이상의 유산소 운동입니다.\n",
            "운동은 한번 시작하면 지속적으로 10분 이상은 해야지 효과가 있지\n",
            "\u001b[91m한 1분 계단을 올랐다\u001b[0m\n",
            "\u001b[94m한 1분 계단을 올랐다고\u001b[0m\n",
            "그렇게 해서 운동 효과가 크지는 않다고 하겠습니다.\n",
            "저희는 어르신들의 개별적인 신체 능력을 평가해서\n",
            "\u001b[91m그에 맞는 맞추며 운동 처방을 해드릴 것입니다.\u001b[0m\n",
            "\u001b[94m그에 맞는 맞춤 운동 처방을 해드릴 것입니다.\u001b[0m\n"
          ]
        }
      ],
      "source": [
        "from difflib import unified_diff\n",
        "\n",
        "diff = unified_diff(\n",
        "    orginal_text.splitlines(),\n",
        "    corrected_text.splitlines(),\n",
        "    fromfile='Original',\n",
        "    tofile='Corrected',\n",
        "    lineterm=''\n",
        ")\n",
        "\n",
        "for line in diff:\n",
        "    if line.startswith('-'):\n",
        "        print(f\"\\033[91m{line[1:]}\\033[0m\")  # 삭제된 부분은 빨간색으로 출력\n",
        "    elif line.startswith('+'):\n",
        "        print(f\"\\033[94m{line[1:]}\\033[0m\")  # 추가된 부분은 파란색으로 출력\n",
        "    elif not (line.startswith('---') or line.startswith('+++') or line.startswith('@@')):\n",
        "        print(line[1:])  # 변경되지 않은 부분은 그대로 출력\n"
      ]
    },
    {
      "cell_type": "markdown",
      "metadata": {
        "id": "mNsY76KcONSu"
      },
      "source": [
        "# 퀴즈 생성"
      ]
    },
    {
      "cell_type": "code",
      "execution_count": 40,
      "metadata": {
        "colab": {
          "base_uri": "https://localhost:8080/"
        },
        "id": "ac3gU2qhNiNv",
        "outputId": "7a0414e0-4183-4892-cf99-90ad8431dad9"
      },
      "outputs": [
        {
          "name": "stdout",
          "output_type": "stream",
          "text": [
            "prompt\n",
            "\n",
            "\n",
            "우리 어르신들은 근력이 약한 경우가 많기 때문에\n",
            "근력 운동을 반드시 많이 하셔야 합니다.\n",
            "특히 하체 근력 운동을 많이 하셔야 하고요.\n",
            "유산소 운동을 하셔야 하고\n",
            "낙상 방지를 위해서 균형 운동을 또한 하셔야 합니다.\n",
            "운동의 양으로 말씀드리면 약 일주일에 150분 이상\n",
            "중강도 이상의 유산소 운동을 하셔야 합니다.\n",
            "중강도 이상의 유산소 운동은\n",
            "약간 숨이 차고 약간 땀이 납니다\n",
            "이런 정도의 운동으로써 조금 빠르게 걷기나\n",
            "수영 이런 것이 대표적인 중강도 이상의 유산소 운동입니다.\n",
            "운동은 한번 시작하면 지속적으로 10분 이상은 해야지 효과가 있지\n",
            "한 1분 계단을 올랐다고\n",
            "그렇게 해서 운동 효과가 크지는 않다고 하겠습니다.\n",
            "저희는 어르신들의 개별적인 신체 능력을 평가해서\n",
            "그에 맞는 맞춤 운동 처방을 해드릴 것입니다.\n",
            "\n",
            "위의 교육 영상의 자막을 보고, \n",
            "시청자가 교육 내용을 잘 이해했는지 확인하기 위한 퀴즈를 3개를 만들어줘. \n",
            "일반 텍스트로 (답변 포함)\"\n",
            "\n",
            "1. 어르신들이 주로 강화해야 할 근력 부위는 어디인가요?\n",
            "   - 답변: 하체\n",
            "\n",
            "2. 어르신들이 일주일에 몇 분 이상 중강도 이상의 유산소 운동을 해야 하나요?\n",
            "   - 답변: 150분 이상\n",
            "\n",
            "3. 운동을 할 때 최소 몇 분 이상 지속해야 효과가 있다고 설명되었나요?\n",
            "   - 니변: 10분 이상\n"
          ]
        }
      ],
      "source": [
        "prompt = f\"\"\"\n",
        "{corrected_text}\n",
        "\n",
        "위의 교육 영상의 자막을 보고,\n",
        "시청자가 교육 내용을 잘 이해했는지 확인하기 위한 퀴즈를 3개를 만들어줘.\n",
        "일반 텍스트로 (답변 포함)\"\n",
        "\"\"\"\n",
        "\n",
        "\n",
        "print(f\"prompt\\n\\n{prompt}\")\n",
        "\n",
        "response = client.chat.completions.create(\n",
        "  model=\"gpt-4-turbo-2024-04-09\",\n",
        "  messages=[\n",
        "    {\"role\": \"system\", \"content\": \"You are a helpful assistant.\"},\n",
        "    {\"role\": \"user\", \"content\": prompt}\n",
        "  ],\n",
        "  temperature=0.1\n",
        ")\n",
        "\n",
        "generated_quiz = response.choices[0].message.content\n",
        "\n",
        "print(generated_quiz)"
      ]
    },
    {
      "cell_type": "code",
      "execution_count": 44,
      "metadata": {
        "colab": {
          "base_uri": "https://localhost:8080/"
        },
        "id": "56yFR6OrOgYq",
        "outputId": "75aefcbc-b32d-4920-a118-88b1f5a49da0"
      },
      "outputs": [
        {
          "name": "stdout",
          "output_type": "stream",
          "text": [
            "prompt\n",
            "\n",
            "\n",
            "우리 어르신들은 근력이 약한 경우가 많기 때문에\n",
            "근력 운동을 반드시 많이 하셔야 합니다.\n",
            "특히 하체 근력 운동을 많이 하셔야 하고요.\n",
            "유산소 운동을 하셔야 하고\n",
            "낙상 방지를 위해서 균형 운동을 또한 하셔야 합니다.\n",
            "운동의 양으로 말씀드리면 약 일주일에 150분 이상\n",
            "중강도 이상의 유산소 운동을 하셔야 합니다.\n",
            "중강도 이상의 유산소 운동은\n",
            "약간 숨이 차고 약간 땀이 납니다\n",
            "이런 정도의 운동으로써 조금 빠르게 걷기나\n",
            "수영 이런 것이 대표적인 중강도 이상의 유산소 운동입니다.\n",
            "운동은 한번 시작하면 지속적으로 10분 이상은 해야지 효과가 있지\n",
            "한 1분 계단을 올랐다고\n",
            "그렇게 해서 운동 효과가 크지는 않다고 하겠습니다.\n",
            "저희는 어르신들의 개별적인 신체 능력을 평가해서\n",
            "그에 맞는 맞춤 운동 처방을 해드릴 것입니다.\n",
            "\n",
            "위의 교육 영상의 자막을 보고, \n",
            "시청자가 교육 내용을 잘 이해했는지 확인하기 위한 퀴즈를 3개를 만들어줘. \n",
            "객관식으로 쉽게(답변 포함)\"\n",
            "\n",
            "1. 어르신들이 주로 강화해야 할 근력 부위는 어디인가요?\n",
            "   A) 상체\n",
            "   B) 하체\n",
            "   C) 팔\n",
            "   D) 복부\n",
            "   정답: B) 하체\n",
            "\n",
            "2. 중강도 이상의 유산소 운동을 할 때의 적절한 신체 반응은 무엇인가요?\n",
            "   A) 숨이 많이 차고 많이 땀이 난다\n",
            "   B) 숨이 조금 차고 약간 땀이 난다\n",
            "   C) 전혀 숨이 차지 않고 땀이 나지 않는다\n",
            "   D) 매우 편안하고 땀이 전혀 나지 않는다\n",
            "   정답: B) 숨이 조금 차고 약간 땀이 난다\n",
            "\n",
            "3. 운동의 효과를 위해 한 번의 운동 세션은 최소 몇 분 이상 지속되어야 합니까?\n",
            "   A) 1분\n",
            "   B) 5분\n",
            "   C) 10분\n",
            "   D) 20분\n",
            "   정답: C) 10분\n"
          ]
        }
      ],
      "source": [
        "prompt = f\"\"\"\n",
        "{corrected_text}\n",
        "\n",
        "위의 교육 영상의 자막을 보고,\n",
        "시청자가 교육 내용을 잘 이해했는지 확인하기 위한 퀴즈를 3개를 만들어줘.\n",
        "객관식으로 쉽게(답변 포함)\"\n",
        "\"\"\"\n",
        "\n",
        "\n",
        "print(f\"prompt\\n\\n{prompt}\")\n",
        "\n",
        "response = client.chat.completions.create(\n",
        "  model=\"gpt-4-turbo-2024-04-09\",\n",
        "  messages=[\n",
        "    {\"role\": \"system\", \"content\": \"You are a helpful assistant.\"},\n",
        "    {\"role\": \"user\", \"content\": prompt}\n",
        "  ],\n",
        "  temperature=0.1\n",
        ")\n",
        "\n",
        "generated_quiz = response.choices[0].message.content\n",
        "\n",
        "print(generated_quiz)"
      ]
    },
    {
      "cell_type": "code",
      "execution_count": null,
      "metadata": {
        "id": "NU53bcFcOm5r"
      },
      "outputs": [],
      "source": []
    }
  ],
  "metadata": {
    "colab": {
      "provenance": []
    },
    "kernelspec": {
      "display_name": "Python 3",
      "name": "python3"
    },
    "language_info": {
      "name": "python"
    }
  },
  "nbformat": 4,
  "nbformat_minor": 0
}
